{
 "nbformat": 4,
 "nbformat_minor": 0,
 "metadata": {
  "colab": {
   "private_outputs": true,
   "provenance": []
  },
  "kernelspec": {
   "name": "python3",
   "display_name": "Python 3"
  },
  "language_info": {
   "name": "python"
  }
 },
 "cells": [
  {
   "cell_type": "code",
   "source": [
    "!pip install openml"
   ],
   "metadata": {
    "id": "mHsOJeSvpzZu"
   },
   "execution_count": 1,
   "outputs": [
    {
     "name": "stdout",
     "output_type": "stream",
     "text": [
      "Requirement already satisfied: openml in c:\\users\\marcv\\appdata\\local\\programs\\python\\python39\\lib\\site-packages (0.12.2)\n",
      "Requirement already satisfied: numpy>=1.6.2 in c:\\users\\marcv\\appdata\\local\\programs\\python\\python39\\lib\\site-packages (from openml) (1.23.3)\n",
      "Requirement already satisfied: pandas>=1.0.0 in c:\\users\\marcv\\appdata\\local\\programs\\python\\python39\\lib\\site-packages (from openml) (1.5.0)\n",
      "Requirement already satisfied: python-dateutil in c:\\users\\marcv\\appdata\\local\\programs\\python\\python39\\lib\\site-packages (from openml) (2.8.2)\n",
      "Requirement already satisfied: minio in c:\\users\\marcv\\appdata\\local\\programs\\python\\python39\\lib\\site-packages (from openml) (7.1.12)\n",
      "Requirement already satisfied: pyarrow in c:\\users\\marcv\\appdata\\local\\programs\\python\\python39\\lib\\site-packages (from openml) (9.0.0)\n",
      "Requirement already satisfied: requests in c:\\users\\marcv\\appdata\\local\\programs\\python\\python39\\lib\\site-packages (from openml) (2.28.1)\n",
      "Requirement already satisfied: scikit-learn>=0.18 in c:\\users\\marcv\\appdata\\local\\programs\\python\\python39\\lib\\site-packages (from openml) (1.1.2)\n",
      "Requirement already satisfied: scipy>=0.13.3 in c:\\users\\marcv\\appdata\\local\\programs\\python\\python39\\lib\\site-packages (from openml) (1.9.1)\n",
      "Requirement already satisfied: xmltodict in c:\\users\\marcv\\appdata\\local\\programs\\python\\python39\\lib\\site-packages (from openml) (0.13.0)\n",
      "Requirement already satisfied: liac-arff>=2.4.0 in c:\\users\\marcv\\appdata\\local\\programs\\python\\python39\\lib\\site-packages (from openml) (2.5.0)\n",
      "Requirement already satisfied: pytz>=2020.1 in c:\\users\\marcv\\appdata\\local\\programs\\python\\python39\\lib\\site-packages (from pandas>=1.0.0->openml) (2022.2.1)\n",
      "Requirement already satisfied: six>=1.5 in c:\\users\\marcv\\appdata\\local\\programs\\python\\python39\\lib\\site-packages (from python-dateutil->openml) (1.16.0)\n",
      "Requirement already satisfied: joblib>=1.0.0 in c:\\users\\marcv\\appdata\\local\\programs\\python\\python39\\lib\\site-packages (from scikit-learn>=0.18->openml) (1.2.0)\n",
      "Requirement already satisfied: threadpoolctl>=2.0.0 in c:\\users\\marcv\\appdata\\local\\programs\\python\\python39\\lib\\site-packages (from scikit-learn>=0.18->openml) (3.1.0)\n",
      "Requirement already satisfied: certifi in c:\\users\\marcv\\appdata\\local\\programs\\python\\python39\\lib\\site-packages (from minio->openml) (2022.9.24)\n",
      "Requirement already satisfied: urllib3 in c:\\users\\marcv\\appdata\\local\\programs\\python\\python39\\lib\\site-packages (from minio->openml) (1.26.12)\n",
      "Requirement already satisfied: idna<4,>=2.5 in c:\\users\\marcv\\appdata\\local\\programs\\python\\python39\\lib\\site-packages (from requests->openml) (3.4)\n",
      "Requirement already satisfied: charset-normalizer<3,>=2 in c:\\users\\marcv\\appdata\\local\\programs\\python\\python39\\lib\\site-packages (from requests->openml) (2.1.1)\n"
     ]
    },
    {
     "name": "stderr",
     "output_type": "stream",
     "text": [
      "WARNING: You are using pip version 21.2.3; however, version 22.3.1 is available.\n",
      "You should consider upgrading via the 'C:\\Users\\marcv\\AppData\\Local\\Programs\\Python\\Python39\\python.exe -m pip install --upgrade pip' command.\n"
     ]
    }
   ]
  },
  {
   "cell_type": "code",
   "execution_count": 2,
   "metadata": {
    "id": "QEnOZvlls6_o"
   },
   "outputs": [],
   "source": [
    "%matplotlib inline\n",
    "import matplotlib.pyplot as plt\n",
    "import seaborn as sns\n",
    "import numpy as np\n",
    "import pandas as pd\n",
    "\n",
    "RANDOM_SEED = 0xdeadbeef"
   ]
  },
  {
   "cell_type": "markdown",
   "source": [
    "# Task 1: Warmup - Breast Cancer Classification (3 Points)\n",
    "\n",
    "In this warm-up task, we you will apply what you have learned so far about classification to a dataset of Breast Cancer samples. The dataset has 30 features and the goal is to predict whether a particular example is malignant or benign. In further tasks, we will apply dimensionality reduction techniques to this dataset. The goal of this first task is to establish a baseline that we can compare against."
   ],
   "metadata": {
    "id": "LXrtf5gUsMrF"
   }
  },
  {
   "cell_type": "markdown",
   "source": [
    "In the next cell, we load the data and print out the description of the dataset. You do not have to read it in detail but we suggest you have a quick look at what kind of measurements were taken."
   ],
   "metadata": {
    "id": "NAkbuWcpt9-h"
   }
  },
  {
   "cell_type": "code",
   "source": [
    "from sklearn.datasets import load_breast_cancer\n",
    "\n",
    "data = load_breast_cancer(as_frame=True)\n",
    "X_raw = data.data\n",
    "y = data.target\n",
    "y.replace(0, 'Malignant', inplace=True)\n",
    "y.replace(1, 'Benign', inplace=True)\n",
    "\n",
    "print(data.DESCR)"
   ],
   "metadata": {
    "id": "hPJdhacmveTR"
   },
   "execution_count": 3,
   "outputs": [
    {
     "name": "stdout",
     "output_type": "stream",
     "text": [
      ".. _breast_cancer_dataset:\n",
      "\n",
      "Breast cancer wisconsin (diagnostic) dataset\n",
      "--------------------------------------------\n",
      "\n",
      "**Data Set Characteristics:**\n",
      "\n",
      "    :Number of Instances: 569\n",
      "\n",
      "    :Number of Attributes: 30 numeric, predictive attributes and the class\n",
      "\n",
      "    :Attribute Information:\n",
      "        - radius (mean of distances from center to points on the perimeter)\n",
      "        - texture (standard deviation of gray-scale values)\n",
      "        - perimeter\n",
      "        - area\n",
      "        - smoothness (local variation in radius lengths)\n",
      "        - compactness (perimeter^2 / area - 1.0)\n",
      "        - concavity (severity of concave portions of the contour)\n",
      "        - concave points (number of concave portions of the contour)\n",
      "        - symmetry\n",
      "        - fractal dimension (\"coastline approximation\" - 1)\n",
      "\n",
      "        The mean, standard error, and \"worst\" or largest (mean of the three\n",
      "        worst/largest values) of these features were computed for each image,\n",
      "        resulting in 30 features.  For instance, field 0 is Mean Radius, field\n",
      "        10 is Radius SE, field 20 is Worst Radius.\n",
      "\n",
      "        - class:\n",
      "                - WDBC-Malignant\n",
      "                - WDBC-Benign\n",
      "\n",
      "    :Summary Statistics:\n",
      "\n",
      "    ===================================== ====== ======\n",
      "                                           Min    Max\n",
      "    ===================================== ====== ======\n",
      "    radius (mean):                        6.981  28.11\n",
      "    texture (mean):                       9.71   39.28\n",
      "    perimeter (mean):                     43.79  188.5\n",
      "    area (mean):                          143.5  2501.0\n",
      "    smoothness (mean):                    0.053  0.163\n",
      "    compactness (mean):                   0.019  0.345\n",
      "    concavity (mean):                     0.0    0.427\n",
      "    concave points (mean):                0.0    0.201\n",
      "    symmetry (mean):                      0.106  0.304\n",
      "    fractal dimension (mean):             0.05   0.097\n",
      "    radius (standard error):              0.112  2.873\n",
      "    texture (standard error):             0.36   4.885\n",
      "    perimeter (standard error):           0.757  21.98\n",
      "    area (standard error):                6.802  542.2\n",
      "    smoothness (standard error):          0.002  0.031\n",
      "    compactness (standard error):         0.002  0.135\n",
      "    concavity (standard error):           0.0    0.396\n",
      "    concave points (standard error):      0.0    0.053\n",
      "    symmetry (standard error):            0.008  0.079\n",
      "    fractal dimension (standard error):   0.001  0.03\n",
      "    radius (worst):                       7.93   36.04\n",
      "    texture (worst):                      12.02  49.54\n",
      "    perimeter (worst):                    50.41  251.2\n",
      "    area (worst):                         185.2  4254.0\n",
      "    smoothness (worst):                   0.071  0.223\n",
      "    compactness (worst):                  0.027  1.058\n",
      "    concavity (worst):                    0.0    1.252\n",
      "    concave points (worst):               0.0    0.291\n",
      "    symmetry (worst):                     0.156  0.664\n",
      "    fractal dimension (worst):            0.055  0.208\n",
      "    ===================================== ====== ======\n",
      "\n",
      "    :Missing Attribute Values: None\n",
      "\n",
      "    :Class Distribution: 212 - Malignant, 357 - Benign\n",
      "\n",
      "    :Creator:  Dr. William H. Wolberg, W. Nick Street, Olvi L. Mangasarian\n",
      "\n",
      "    :Donor: Nick Street\n",
      "\n",
      "    :Date: November, 1995\n",
      "\n",
      "This is a copy of UCI ML Breast Cancer Wisconsin (Diagnostic) datasets.\n",
      "https://goo.gl/U2Uwz2\n",
      "\n",
      "Features are computed from a digitized image of a fine needle\n",
      "aspirate (FNA) of a breast mass.  They describe\n",
      "characteristics of the cell nuclei present in the image.\n",
      "\n",
      "Separating plane described above was obtained using\n",
      "Multisurface Method-Tree (MSM-T) [K. P. Bennett, \"Decision Tree\n",
      "Construction Via Linear Programming.\" Proceedings of the 4th\n",
      "Midwest Artificial Intelligence and Cognitive Science Society,\n",
      "pp. 97-101, 1992], a classification method which uses linear\n",
      "programming to construct a decision tree.  Relevant features\n",
      "were selected using an exhaustive search in the space of 1-4\n",
      "features and 1-3 separating planes.\n",
      "\n",
      "The actual linear program used to obtain the separating plane\n",
      "in the 3-dimensional space is that described in:\n",
      "[K. P. Bennett and O. L. Mangasarian: \"Robust Linear\n",
      "Programming Discrimination of Two Linearly Inseparable Sets\",\n",
      "Optimization Methods and Software 1, 1992, 23-34].\n",
      "\n",
      "This database is also available through the UW CS ftp server:\n",
      "\n",
      "ftp ftp.cs.wisc.edu\n",
      "cd math-prog/cpo-dataset/machine-learn/WDBC/\n",
      "\n",
      ".. topic:: References\n",
      "\n",
      "   - W.N. Street, W.H. Wolberg and O.L. Mangasarian. Nuclear feature extraction \n",
      "     for breast tumor diagnosis. IS&T/SPIE 1993 International Symposium on \n",
      "     Electronic Imaging: Science and Technology, volume 1905, pages 861-870,\n",
      "     San Jose, CA, 1993.\n",
      "   - O.L. Mangasarian, W.N. Street and W.H. Wolberg. Breast cancer diagnosis and \n",
      "     prognosis via linear programming. Operations Research, 43(4), pages 570-577, \n",
      "     July-August 1995.\n",
      "   - W.H. Wolberg, W.N. Street, and O.L. Mangasarian. Machine learning techniques\n",
      "     to diagnose breast cancer from fine-needle aspirates. Cancer Letters 77 (1994) \n",
      "     163-171.\n"
     ]
    }
   ]
  },
  {
   "cell_type": "markdown",
   "source": [
    "In the next cell, we split the data in a train and test set. We select $80\\%$ of the data for training and the remaining to test. We also use stratification to make sure that the proportion of malignant and benign samples is the same in both the train and test set."
   ],
   "metadata": {
    "id": "QX8swkgFrfxb"
   }
  },
  {
   "cell_type": "code",
   "source": [
    "from sklearn.model_selection import train_test_split\n",
    "\n",
    "x_train, x_test, y_train, y_test = train_test_split(\n",
    "  X_raw, y,\n",
    "  train_size=.8,  # use 80% for training\n",
    "  shuffle=True,   # randomize the split\n",
    "  random_state=RANDOM_SEED,  # set the random seed, so we always  get the same split \n",
    "  stratify=y,  # stratify, to make sure class proportions are preserved\n",
    ")"
   ],
   "metadata": {
    "id": "YwrquUbTukFm"
   },
   "execution_count": 4,
   "outputs": []
  },
  {
   "cell_type": "markdown",
   "source": [
    "# Normalizing the data\n",
    "\n",
    "###  Task 1a. Apply standard (mean, standard deviation) normalization to both the training and the test data. \n",
    "\n",
    "**Remember:** we only compute the the mean and standard deviation on the training set!"
   ],
   "metadata": {
    "id": "X1vFxTqgvsKw"
   }
  },
  {
   "cell_type": "code",
   "source": [
    "mean = x_train.mean()\n",
    "std = x_train.std()\n",
    "\n",
    "x_train_norm = (x_train - mean) / std\n",
    "x_test_norm = (x_test - mean) / std"
   ],
   "metadata": {
    "id": "8uRZtc6oz5Nd"
   },
   "execution_count": 5,
   "outputs": []
  },
  {
   "cell_type": "markdown",
   "source": [
    "# What is the performance of a Linear SVM classifier on this data?\n",
    "\n",
    "We are now ready to train our baseline classifier on this data. Since we will compare different classifiers to each other, it is useful to have a single score that we can compare.\n",
    "\n",
    "In the next cell, we provide a helper function to compute the F1 score for 'Malignant' predictions. We will use this function to compare classifiers."
   ],
   "metadata": {
    "id": "4orEjhEtxKjr"
   }
  },
  {
   "cell_type": "code",
   "source": [
    "from sklearn.metrics import f1_score\n",
    "\n",
    "def f1_malignant(y_true: pd.Series, y_pred: pd.Series) -> float:\n",
    "  \"\"\"\n",
    "  Helper function to compute the F1 score for the 'Malignant' class\n",
    "\n",
    "  y_true: a pd.Series object containing the ground truth labes \n",
    "          ('Benign' or 'Malignant'), you will mainly pass 'y_test' here\n",
    "  y_pred: a pd.Series object containing predicted labels, for example the \n",
    "          output of the '.predict' method of a classifier\n",
    "  \"\"\"\n",
    "  return f1_score(\n",
    "      y_true=y_true,\n",
    "      y_pred=y_pred,\n",
    "      pos_label=\"Malignant\",\n",
    "      average=\"binary\",\n",
    "  )"
   ],
   "metadata": {
    "id": "zJvx3NNIxTUJ"
   },
   "execution_count": 6,
   "outputs": []
  },
  {
   "cell_type": "markdown",
   "source": [
    "### TASK1b. In the next cell, your task is to train linear SVM classifiers. We set up the loops to search for good values of the hyperparameters `C` and `class_weight` for you.\n",
    "\n",
    "Find the combination that gives the best (i.e. highest) value for `f1_malignant`."
   ],
   "metadata": {
    "id": "kYieT2RK2KXT"
   }
  },
  {
   "cell_type": "code",
   "source": [
    "from sklearn.svm import LinearSVC\n",
    "\n",
    "for c in [.1, 1., 10.]:\n",
    "  for class_weight in [None, \"balanced\"]:\n",
    "    svm = LinearSVC(C=c, class_weight=class_weight)\n",
    "    svm.fit(x_train_norm, y_train)\n",
    "    f1 = f1_malignant(y_test, svm.predict(x_test_norm))\n",
    "\n",
    "    print(c, class_weight, f1)\n"
   ],
   "metadata": {
    "id": "U7KHYOUyIIuM"
   },
   "execution_count": 7,
   "outputs": [
    {
     "name": "stdout",
     "output_type": "stream",
     "text": [
      "0.1 None 0.9113924050632912\n",
      "0.1 balanced 0.9382716049382716\n",
      "1.0 None 0.888888888888889\n",
      "1.0 balanced 0.888888888888889\n",
      "10.0 None 0.9135802469135802\n",
      "10.0 balanced 0.9135802469135802\n"
     ]
    },
    {
     "name": "stderr",
     "output_type": "stream",
     "text": [
      "C:\\Users\\marcv\\AppData\\Local\\Programs\\Python\\Python39\\lib\\site-packages\\sklearn\\svm\\_base.py:1225: ConvergenceWarning: Liblinear failed to converge, increase the number of iterations.\n",
      "  warnings.warn(\n",
      "C:\\Users\\marcv\\AppData\\Local\\Programs\\Python\\Python39\\lib\\site-packages\\sklearn\\svm\\_base.py:1225: ConvergenceWarning: Liblinear failed to converge, increase the number of iterations.\n",
      "  warnings.warn(\n"
     ]
    }
   ]
  },
  {
   "cell_type": "markdown",
   "source": [
    "## 📢 **HAND-IN** 📢: Enter in **Moodle** whether you solved this task."
   ],
   "metadata": {
    "id": "OV5eiCrXcJJh"
   }
  },
  {
   "cell_type": "markdown",
   "source": [
    "# Task 2: PCA (5 Points)\n",
    "\n",
    "We will now apply Principal Component Analysis (PCA) to our data. At its core, PCA will just map our data into a new coordinate systems in such a way that the variation in the data can be explained with fewer dimensions.\n",
    "\n",
    "Note that in the original data space, the ordering of dimensions is arbitrary. For example, if you measure height and weight of people, there is no reason to prefer the height as first dimension and weight as second, over weight as first and height as second. \n",
    "\n",
    "In the new coordinate system that is computed by PCA, the dimensions are ordered by the amount of data variability they \"explain\". That means that the first dimension (the first \"Principal Component\") will explain more variability than the second, the second more than the third etc.\n",
    "\n",
    "This is the reason we can use PCA for dimensionality reduction. We only have to consider the subset of the first $k$ dimensions to get a good representation of the data.\n"
   ],
   "metadata": {
    "id": "nCKqo8mJ31g0"
   }
  },
  {
   "cell_type": "markdown",
   "source": [
    "### Plotting the original data\n",
    "\n",
    "In the next cells we print the feature names of our dataset and then choose 2 arbitrary dimensions to plot them against each other.\n",
    "\n",
    "You can change the values of the variables `feature1` and `feature2` to plot a different pair of features (dimensions)."
   ],
   "metadata": {
    "id": "sG2wLl2kMELG"
   }
  },
  {
   "cell_type": "code",
   "source": [
    "feature_names = x_train_norm.columns\n",
    "print(feature_names)"
   ],
   "metadata": {
    "id": "qRuTPMZk5525"
   },
   "execution_count": 8,
   "outputs": [
    {
     "name": "stdout",
     "output_type": "stream",
     "text": [
      "Index(['mean radius', 'mean texture', 'mean perimeter', 'mean area',\n",
      "       'mean smoothness', 'mean compactness', 'mean concavity',\n",
      "       'mean concave points', 'mean symmetry', 'mean fractal dimension',\n",
      "       'radius error', 'texture error', 'perimeter error', 'area error',\n",
      "       'smoothness error', 'compactness error', 'concavity error',\n",
      "       'concave points error', 'symmetry error', 'fractal dimension error',\n",
      "       'worst radius', 'worst texture', 'worst perimeter', 'worst area',\n",
      "       'worst smoothness', 'worst compactness', 'worst concavity',\n",
      "       'worst concave points', 'worst symmetry', 'worst fractal dimension'],\n",
      "      dtype='object')\n"
     ]
    }
   ]
  },
  {
   "cell_type": "code",
   "source": [
    "feature1 = \"mean texture\"\n",
    "feature2 = \"mean concavity\"\n",
    "\n",
    "\n",
    "plt.scatter(x_train_norm[feature1], x_train_norm[feature2], c=y_train.map({'Benign': 0, 'Malignant': 1}), s=50)\n",
    "plt.xlabel(feature1)\n",
    "plt.ylabel(feature2)"
   ],
   "metadata": {
    "id": "V7X6Ma-j7Iwe"
   },
   "execution_count": 9,
   "outputs": [
    {
     "data": {
      "text/plain": "Text(0, 0.5, 'mean concavity')"
     },
     "execution_count": 9,
     "metadata": {},
     "output_type": "execute_result"
    },
    {
     "data": {
      "text/plain": "<Figure size 640x480 with 1 Axes>",
      "image/png": "[encoded data removed]"
     },
     "metadata": {},
     "output_type": "display_data"
    }
   ]
  },
  {
   "cell_type": "markdown",
   "source": [
    "### Task 2a. How many Principal Components are needed to get a good representation of our data?\n",
    "\n",
    "In the next cell, we use the `PCA` implementation provided by `sklearn.decomposition`. As usual, this class provides a `.fit` method to learn the PCA coordinate transformation, and a `.transform` method to apply the learned PCA transformation to our data.\n",
    "\n",
    "The `PCA` class takes an optional argument `n_components`. If you know that you want to reduce your data to a fixed number of dimensions `d`, then you can set `n_components=d` and the `.transform` method will only return the first `d` dimensions. \n",
    "\n",
    "In our case, we aim to figure out what a good value for `d` could be, so we do not specify it. In this case the output of `PCA` will have the same number of dimensions as the input, i.e. it will compute all Principal Components. "
   ],
   "metadata": {
    "id": "QWIaJFtsUyb_"
   }
  },
  {
   "cell_type": "code",
   "source": [
    "from sklearn.decomposition import PCA\n",
    "\n",
    "pca = PCA()\n",
    "pca.fit(x_train_norm)\n",
    "\n",
    "x_train_pca = pca.transform(x_train_norm)\n",
    "x_test_pca = pca.transform(x_test_norm)\n",
    "\n",
    "print(\"Number of dimensions before: \", x_train_norm.shape[1])\n",
    "print(\"Number of dimensions after: \", x_train_pca.shape[1])"
   ],
   "metadata": {
    "id": "8N88QiKa6jNW"
   },
   "execution_count": 10,
   "outputs": [
    {
     "name": "stdout",
     "output_type": "stream",
     "text": [
      "Number of dimensions before:  30\n",
      "Number of dimensions after:  30\n"
     ]
    }
   ]
  },
  {
   "cell_type": "markdown",
   "source": [
    "In class you have seen that you can select a good number of principal components by looking at the *explained variance* of each component.\n",
    "\n",
    "The `sklearn` implementation of `PCA` stores this information in the fields `.explained_variance_` and `.explained_variance_ratio_`. The first contains the absolute variance and the second the percentage.\n",
    "\n",
    "Below, we plot the percentage of explained variance for each component in *blue* and the cumulative explained variance in *green*.\n",
    "\n",
    "### TASK: Study the resulting plot:\n",
    "* How many principal components should we keep?\n",
    "* Why?"
   ],
   "metadata": {
    "id": "SUdnJ8g1Zroq"
   }
  },
  {
   "cell_type": "code",
   "source": [
    "explained_ratio = pca.explained_variance_ratio_\n",
    "\n",
    "n_components = list(range(1, 31))  # [1, 2, ..., 30]\n",
    "plt.plot(n_components, explained_ratio, marker='o', color='blue')\n",
    "plt.plot(n_components, explained_ratio.cumsum(), marker='', color='green', drawstyle=\"steps-post\")\n",
    "print(explained_ratio.cumsum())"
   ],
   "metadata": {
    "id": "svufQ5i48t8B"
   },
   "execution_count": 11,
   "outputs": [
    {
     "name": "stdout",
     "output_type": "stream",
     "text": [
      "[0.44680295 0.63081962 0.73012727 0.79549169 0.84826818 0.88666734\n",
      " 0.90973797 0.92611916 0.93918669 0.95097992 0.96103241 0.96992631\n",
      " 0.97820325 0.98307332 0.98625189 0.98880687 0.9909947  0.99283449\n",
      " 0.99446043 0.99557065 0.99657387 0.99749427 0.99832484 0.99891131\n",
      " 0.99944735 0.99970531 0.9999168  0.99997113 0.99999523 1.        ]\n"
     ]
    },
    {
     "data": {
      "text/plain": "<Figure size 640x480 with 1 Axes>",
      "image/png": "[encoded data removed]"
     },
     "metadata": {},
     "output_type": "display_data"
    }
   ]
  },
  {
   "cell_type": "markdown",
   "source": [
    "### Task 2b. Plotting Principal Components\n",
    "\n",
    "We can now plot different pairs of principal components. In the cell below you can change the values of `component_1` and `component_2` to see what happens.\n",
    "\n",
    "In particular, compare the plot for `component_1 = 0` and `component_2 = 1` to the one for `component_1 = 13` and `component_2 = 22`.\n",
    "\n",
    "What do you observe?"
   ],
   "metadata": {
    "id": "EuRhOExIdT3O"
   }
  },
  {
   "cell_type": "code",
   "source": [
    "component_1 = 1  # enter here any number between 0..29\n",
    "component_2 = 2\n",
    "\n",
    "plt.scatter(x_train_pca[:, component_1], x_train_pca[:, component_2], c=y_train.map({'Benign': 0, 'Malignant': 1}), s=50)\n",
    "plt.xlabel(f\"Component {component_1}\")\n",
    "plt.ylabel(f\"Component {component_2}\")"
   ],
   "metadata": {
    "id": "jCEqZ-I5dS_e"
   },
   "execution_count": 12,
   "outputs": [
    {
     "data": {
      "text/plain": "Text(0, 0.5, 'Component 2')"
     },
     "execution_count": 12,
     "metadata": {},
     "output_type": "execute_result"
    },
    {
     "data": {
      "text/plain": "<Figure size 640x480 with 1 Axes>",
      "image/png": "[encoded data removed]"
     },
     "metadata": {},
     "output_type": "display_data"
    }
   ]
  },
  {
   "cell_type": "markdown",
   "source": [
    "## 📢 **HAND-IN** 📢: Enter the following in **Moodle**\n",
    "\n",
    "* Task 2a (2 Points): How many principal components should we keep and why?\n",
    "* Task 2b (1 Point): Your observation."
   ],
   "metadata": {
    "id": "hAt2nOVRbfcb"
   }
  },
  {
   "cell_type": "markdown",
   "source": [
    "### How well can we classify our data if we reduce the number of dimensions?\n",
    "\n",
    "In the cell below, we want to find out how many principal components we need to keep to get the same (or better) performance as our baseline from Task 1.\n",
    "\n",
    "Fill out the missing code below. Remember that we use `f1_malignant` to compare different classifiers. You should use a `LinearSVC` and you do **not** have to set any hyperparameter (`C` or `class_weight`).\n"
   ],
   "metadata": {
    "id": "ylOGxweSeWPX"
   }
  },
  {
   "cell_type": "markdown",
   "source": [
    "\n",
    "### TASK 2c. How many components are needed to get the same or better result than our baseline?"
   ],
   "metadata": {
    "id": "ix5SJX3nbVFa"
   }
  },
  {
   "cell_type": "code",
   "source": [
    "for n_components in range(1, 31):\n",
    "  x_train_reduced = x_train_pca[:, :n_components]  # only use the first n components\n",
    "  x_test_reduced = x_test_pca[:, :n_components]    # only use the first n components\n",
    "\n",
    "  svm = LinearSVC()  # You do not need to change C and class_weight\n",
    "  \n",
    "  svm.fit(x_train_reduced, y_train)\n",
    "  y_pred = svm.predict(x_test_reduced)\n",
    "  f1 = f1_malignant(\n",
    "      y_true=y_test,\n",
    "      y_pred=y_pred,\n",
    "  )\n",
    "  print(f\"{n_components} {f1:.4f}\")"
   ],
   "metadata": {
    "id": "GvkRYhPCFhRf"
   },
   "execution_count": 13,
   "outputs": [
    {
     "name": "stdout",
     "output_type": "stream",
     "text": [
      "1 0.8471\n",
      "2 0.9157\n",
      "3 0.9024\n",
      "4 0.9136\n",
      "5 0.9512\n",
      "6 0.9383\n",
      "7 0.9383\n",
      "8 0.9383\n",
      "9 0.9268\n",
      "10 0.9383\n",
      "11 0.9383\n",
      "12 0.9383\n",
      "13 0.9383\n",
      "14 0.9000\n",
      "15 0.9000\n",
      "16 0.9000\n",
      "17 0.9000\n",
      "18 0.9000\n",
      "19 0.9000\n",
      "20 0.9000\n",
      "21 0.8889\n",
      "22 0.8889\n",
      "23 0.8889\n",
      "24 0.8889\n",
      "25 0.8889\n",
      "26 0.8889\n",
      "27 0.8889\n",
      "28 0.8889\n",
      "29 0.8889\n",
      "30 0.8889\n"
     ]
    },
    {
     "name": "stderr",
     "output_type": "stream",
     "text": [
      "C:\\Users\\marcv\\AppData\\Local\\Programs\\Python\\Python39\\lib\\site-packages\\sklearn\\svm\\_base.py:1225: ConvergenceWarning: Liblinear failed to converge, increase the number of iterations.\n",
      "  warnings.warn(\n",
      "C:\\Users\\marcv\\AppData\\Local\\Programs\\Python\\Python39\\lib\\site-packages\\sklearn\\svm\\_base.py:1225: ConvergenceWarning: Liblinear failed to converge, increase the number of iterations.\n",
      "  warnings.warn(\n",
      "C:\\Users\\marcv\\AppData\\Local\\Programs\\Python\\Python39\\lib\\site-packages\\sklearn\\svm\\_base.py:1225: ConvergenceWarning: Liblinear failed to converge, increase the number of iterations.\n",
      "  warnings.warn(\n",
      "C:\\Users\\marcv\\AppData\\Local\\Programs\\Python\\Python39\\lib\\site-packages\\sklearn\\svm\\_base.py:1225: ConvergenceWarning: Liblinear failed to converge, increase the number of iterations.\n",
      "  warnings.warn(\n",
      "C:\\Users\\marcv\\AppData\\Local\\Programs\\Python\\Python39\\lib\\site-packages\\sklearn\\svm\\_base.py:1225: ConvergenceWarning: Liblinear failed to converge, increase the number of iterations.\n",
      "  warnings.warn(\n"
     ]
    }
   ]
  },
  {
   "cell_type": "markdown",
   "source": [
    "## 📢 **HAND-IN** 📢: Enter in **Moodle** whether you solved this task (2c, 2 Points).\n"
   ],
   "metadata": {
    "id": "1v-7BSubhNHZ"
   }
  },
  {
   "cell_type": "markdown",
   "source": [
    "### Task 3: A bigger Dataset (2 Points)\n",
    "\n",
    "In this task, we will repeat the main points from Tasks 1 and 2 but for a dataset with a lot more features (100000).\n",
    "\n",
    "The goal is to classify chemical compounds into \"active\" and \"inactive\", meaning whether they will bind to a certain receptor.\n",
    "\n",
    "Below we load the dataset and we also include the dataset description from the openml.org website."
   ],
   "metadata": {
    "id": "Zkld2tAah1n-"
   }
  },
  {
   "cell_type": "code",
   "source": [
    "import openml\n",
    "data = openml.datasets.get_dataset(dataset_id=4137)\n",
    "X, y, _, _ = data.get_data(target=\"class\")\n",
    "y = y.sparse.to_dense()\n",
    "y.replace(0, 'Inactive', inplace=True)\n",
    "y.replace(1, 'Active', inplace=True)\n",
    "\n",
    "from collections import Counter\n",
    "print(\"Number of features: \", X.shape[1])\n",
    "print(\"Class balance: \", Counter(y))"
   ],
   "metadata": {
    "id": "lHy5Bx9VqCZ2"
   },
   "execution_count": 14,
   "outputs": [
    {
     "name": "stdout",
     "output_type": "stream",
     "text": [
      "Number of features:  100000\n",
      "Class balance:  Counter({'Inactive': 1038, 'Active': 112})\n"
     ]
    }
   ]
  },
  {
   "cell_type": "markdown",
   "source": [
    "### Description from [openml.org](https://https://www.openml.org/search?type=data&sort=runs&status=active&id=4137): \n",
    "\n",
    "DOROTHEA is a drug discovery dataset. Chemical compounds represented by\n",
    "structural molecular features must be classified as active \n",
    "(binding to thrombin) or inactive. \n",
    "This is one of 5 datasets of the NIPS 2003 feature selection challenge.\n",
    "\n",
    "Source:\n",
    "\n",
    "a. Original owners The dataset with which DOROTHEA was created is one of the KDD (Knowledge Discovery in Data Mining) Cup 2001. \n",
    "The original dataset and papers of the winners of the competition are available at: http://www.cs.wisc.edu/~dpage/kddcup2001/. \n",
    "DuPont Pharmaceuticals graciously provided this data set for the KDD Cup 2001 competition.\n",
    "All publications referring to analysis of this data set should acknowledge DuPont Pharmaceuticals Research Laboratories and KDD Cup 2001.\n",
    "\n",
    "b. Donor of database This version of the database was prepared for the NIPS 2003 variable and feature selection benchmark by Isabelle Guyon, 955 Creston Road, Berkeley, CA 94708, USA (isabelle '@' clopinet.com).\n",
    "\n",
    "Data Set Information:\n",
    "\n",
    "Drugs are typically small organic molecules that achieve their desired activity by binding to a target site on a receptor. The first step in the discovery of a new drug is usually to identify and isolate the receptor to which it should bind, followed by testing many small molecules for their ability to bind to the target site. This leaves researchers with the task of determining what separates the active (binding) compounds from the inactive (non-binding) ones. Such a determination can then be used in the design of new compounds that not only bind, but also have all the other properties required for a drug (solubility, oral absorption, lack of side effects, appropriate duration of action, toxicity, etc.). The original data were modified for the purpose of the feature selection challenge. In particular, we added a number of distractor feature called 'probes' having no predictive power. The order of the features and patterns were randomized.\n",
    "\n",
    "DOROTHEA -- Positive ex. -- Negative ex. -- Total Training set -- 78 -- 722 -- 800 Validation set -- 34 -- 316 -- 350 Test set -- 78 -- 722 -- 800 All -- 190 -- 1760 -- 1950\n",
    "\n",
    "We mapped Active compounds to the target value +1 (positive examples) and Inactive compounds to the target value –1 (negative examples).\n",
    "\n",
    "Number of variables/features/attributes: Real: 50000 Probes: 50000 Total: 100000"
   ],
   "metadata": {
    "id": "jiLAvCXPx-Kj"
   }
  },
  {
   "cell_type": "markdown",
   "source": [
    "### Train / Test Split"
   ],
   "metadata": {
    "id": "Si5QNHc0zu_Y"
   }
  },
  {
   "cell_type": "code",
   "source": [
    "x_train, x_test, y_train, y_test = train_test_split(\n",
    "    X, y,\n",
    "    train_size=.8,\n",
    "    shuffle=True,\n",
    "    random_state=RANDOM_SEED,\n",
    "    stratify=y,\n",
    ")"
   ],
   "metadata": {
    "id": "o2TwkJ1-jPcx"
   },
   "execution_count": 15,
   "outputs": []
  },
  {
   "cell_type": "markdown",
   "source": [
    "### Performance Metric\n",
    "\n",
    "The goal of the dataset is to accurately determine whether a compound is \"active\". Therefore we define the F1 score for the \"Active\" class as our target measure to assess the preformance of a classifier."
   ],
   "metadata": {
    "id": "AL-A1Ctxz56c"
   }
  },
  {
   "cell_type": "code",
   "source": [
    "def f1_active(y_true: pd.Series, y_pred: pd.Series) -> float:\n",
    "  \"\"\"\n",
    "  Helper function to compute the F1 score for the 'Active' class\n",
    "\n",
    "  y_true: a pd.Series object containing the ground truth labes \n",
    "          ('Inactive' or 'Active'), you will mainly pass 'y_test' here\n",
    "  y_pred: a pd.Series object containing predicted labels, for example the \n",
    "          output of the '.predict' method of a classifier\n",
    "  \"\"\"\n",
    "  return f1_score(\n",
    "      y_true=y_true,\n",
    "      y_pred=y_pred,\n",
    "      pos_label=\"Active\",\n",
    "      average=\"binary\",\n",
    "  )"
   ],
   "metadata": {
    "id": "Vo3t_w1rsvnh"
   },
   "execution_count": 16,
   "outputs": []
  },
  {
   "cell_type": "markdown",
   "source": [
    "### Baseline Classifier"
   ],
   "metadata": {
    "id": "n0ueVs5t0M7j"
   }
  },
  {
   "cell_type": "code",
   "source": [
    "baseline_clf = LinearSVC(class_weight='balanced')  # use class_weight=\"balanced\" since our dataset has very high label inbalance\n",
    "baseline_clf.fit(x_train, y_train)\n",
    "baseline_predictions = baseline_clf.predict(x_test)\n",
    "\n",
    "f1_baseline = f1_active(y_test, baseline_predictions)\n",
    "\n",
    "print(\"Baseline F1 (Active): \", f1_baseline)"
   ],
   "metadata": {
    "id": "yeciw7sHv1uO"
   },
   "execution_count": 17,
   "outputs": [
    {
     "name": "stdout",
     "output_type": "stream",
     "text": [
      "Baseline F1 (Active):  0.35714285714285715\n"
     ]
    }
   ]
  },
  {
   "cell_type": "markdown",
   "source": [
    "### Truncated SVD\n",
    "\n",
    "Our dataset is very sparse. This means that a majority of the entries in our feature matrix are 0. In such cases it is wasteful to explicitely store those 0 values and instead more efficient representations are used (a naive one would for example store the row and column indices and the associated value for each non-zero entry).\n",
    "\n",
    "Unfortunately, the `sklearn` implementation of `PCA` does not support sparse matrices and converting our data to a dense representation can lead to RAM issues. Therefore, we use a \"cousin\" of PCA named `TruncatedSVD` that can handle sparse data. The two algorithms work almost the same way and we will use it interchangeably here.\n",
    "\n",
    "**Warning:** this can take a few minutes to compute."
   ],
   "metadata": {
    "id": "IU6MN1Wt0ppZ"
   }
  },
  {
   "cell_type": "code",
   "source": [
    "from sklearn.decomposition import TruncatedSVD\n",
    "\n",
    "tsvd = TruncatedSVD(n_components=2000)\n",
    "tsvd.fit(x_train)\n",
    "\n",
    "x_train_pca = tsvd.transform(x_train)\n",
    "x_test_pca = tsvd.transform(x_test)"
   ],
   "metadata": {
    "id": "08HzT4KHp3mk"
   },
   "execution_count": 18,
   "outputs": []
  },
  {
   "cell_type": "markdown",
   "source": [
    "### Visualize Variances Explained for each Component\n",
    "\n",
    "Here we plot again the variance explained by each component and the cumulative explained variance. We limit ourselves to the first 200 components for this plot."
   ],
   "metadata": {
    "id": "A6ZKbTRR11Kh"
   }
  },
  {
   "cell_type": "code",
   "source": [
    "explained_ratio = tsvd.explained_variance_ratio_\n",
    "\n",
    "plt.figure(figsize=(10, 10))\n",
    "plt.plot(np.arange(1, 201), explained_ratio[:200], marker='o', color='blue')\n",
    "plt.plot(np.arange(1, 201), explained_ratio.cumsum()[:200], marker='', color='green', drawstyle=\"steps-post\")"
   ],
   "metadata": {
    "id": "dRBRzkZfyZii"
   },
   "execution_count": 19,
   "outputs": [
    {
     "data": {
      "text/plain": "[<matplotlib.lines.Line2D at 0x1b207cf1220>]"
     },
     "execution_count": 19,
     "metadata": {},
     "output_type": "execute_result"
    },
    {
     "data": {
      "text/plain": "<Figure size 1000x1000 with 1 Axes>",
      "image/png": "[encoded data removed]"
     },
     "metadata": {},
     "output_type": "display_data"
    }
   ]
  },
  {
   "cell_type": "markdown",
   "source": [
    "### What is the number of components we should keep for classification?"
   ],
   "metadata": {
    "id": "YOWisY0C7r7K"
   }
  },
  {
   "cell_type": "code",
   "source": [
    "for n_components in [10, 25, 50, 100, 200]:\n",
    "  x_train_reduced = x_train_pca[:, :n_components]\n",
    "  x_test_reduced = x_test_pca[:, :n_components]\n",
    "  svm = LinearSVC(class_weight=\"balanced\", max_iter=100000)  # we increase the number of optimization steps to make the SVM converges\n",
    "  svm.fit(x_train_reduced, y_train)\n",
    "  f1 = f1_active(y_test, svm.predict(x_test_reduced))\n",
    "  print(n_components, f1)"
   ],
   "metadata": {
    "id": "C1NEKmQQ3N_W"
   },
   "execution_count": 20,
   "outputs": [
    {
     "name": "stdout",
     "output_type": "stream",
     "text": [
      "10 0.6190476190476191\n",
      "25 0.6363636363636364\n",
      "50 0.5945945945945945\n",
      "100 0.4375\n",
      "200 0.39999999999999997\n"
     ]
    }
   ]
  },
  {
   "cell_type": "markdown",
   "source": [
    "### Task 3a. Runtime Considerations\n",
    "\n",
    "You have just seen that by using dimensionality reduction, we can drastically improve the classification performance.\n",
    "\n",
    "Another consideration is the runtime behaviour. By reducing the number of dimensions used for training we can reduce the training time by an order of magnitude.\n",
    "\n",
    "An easy way to measure the time it takes to execute a statement, we can use the macro `%timeit` built into IPython shells and notebooks. The macro will execute the statement a number of times and report the average time to execute the statement."
   ],
   "metadata": {
    "id": "6ooiN1TSq1w7"
   }
  },
  {
   "cell_type": "code",
   "source": [
    "svm = LinearSVC(class_weight=\"balanced\", max_iter=100000)"
   ],
   "metadata": {
    "id": "aurJYRXwdC6z"
   },
   "execution_count": 21,
   "outputs": []
  },
  {
   "cell_type": "markdown",
   "source": [
    "Below we use `%timeit` to measure how long it takes to fit an SVM on all dimensions."
   ],
   "metadata": {
    "id": "XsPjbewZshaY"
   }
  },
  {
   "cell_type": "code",
   "source": [
    "%timeit svm.fit(x_train, y_train)"
   ],
   "metadata": {
    "id": "DJH-qtVzdHaK"
   },
   "execution_count": 22,
   "outputs": [
    {
     "name": "stdout",
     "output_type": "stream",
     "text": [
      "1.91 s ± 95.3 ms per loop (mean ± std. dev. of 7 runs, 1 loop each)\n"
     ]
    }
   ]
  },
  {
   "cell_type": "markdown",
   "source": [
    "### Task: measure the time it takes to fit an SVM on dimensionality reduced data\n",
    "\n",
    "You can change `n_components` to change the number of dimensions used. You can reuse the `svm` variable instantiated above."
   ],
   "metadata": {
    "id": "2bqZKfn5sxKv"
   }
  },
  {
   "cell_type": "code",
   "source": [
    "n_components = 20\n",
    "x_train_reduced = x_train_pca[:, :n_components]\n",
    "\n",
    "%timeit svm.fit(x_train_reduced, y_train)"
   ],
   "metadata": {
    "id": "ppkMgvNCdUwc"
   },
   "execution_count": 23,
   "outputs": [
    {
     "name": "stdout",
     "output_type": "stream",
     "text": [
      "246 ms ± 15.7 ms per loop (mean ± std. dev. of 7 runs, 1 loop each)\n"
     ]
    }
   ]
  },
  {
   "cell_type": "code",
   "source": [
    "n_components = 200\n",
    "x_train_reduced = x_train_pca[:, :n_components]\n",
    "\n",
    "%timeit svm.fit(x_train_reduced, y_train)"
   ],
   "metadata": {
    "id": "7UJhcXYLENRP"
   },
   "execution_count": 24,
   "outputs": [
    {
     "name": "stdout",
     "output_type": "stream",
     "text": [
      "59.5 ms ± 3.09 ms per loop (mean ± std. dev. of 7 runs, 10 loops each)\n"
     ]
    }
   ]
  },
  {
   "cell_type": "markdown",
   "source": [
    "## 📢 **HAND-IN** 📢: Enter the following in **Moodle**\n",
    "\n",
    "* The average runtime for `n_components=20`\n",
    "* The average runtime for `n_components=200`"
   ],
   "metadata": {
    "id": "4YC0Sn4ht-HD"
   }
  }
 ]
}
