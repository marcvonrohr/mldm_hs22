{
 "nbformat": 4,
 "nbformat_minor": 0,
 "metadata": {
  "colab": {
   "provenance": [
    {
     "file_id": "1ddzTzMjk4cf5hJSUYR-rv6YIpX6H6pPZ",
     "timestamp": 1665959821399
    },
    {
     "file_id": "1a8JYfGm1gMPT5yWhnTgQxMueaUIYsmJp",
     "timestamp": 1665570545773
    },
    {
     "file_id": "1pvn6jufgTJDs05Wbx9AL1OWsz8xcf6PR",
     "timestamp": 1664870982154
    },
    {
     "file_id": "12sZ0VrTiGnJUGujCtivupha9XUc5_R4O",
     "timestamp": 1664796966493
    }
   ],
   "collapsed_sections": []
  },
  "kernelspec": {
   "name": "python3",
   "display_name": "Python 3"
  },
  "language_info": {
   "name": "python"
  },
  "widgets": {
   "application/vnd.jupyter.widget-state+json": {
    "4ac700a2071645be8e56748f9cc0fffc": {
     "model_module": "@jupyter-widgets/controls",
     "model_name": "HBoxModel",
     "model_module_version": "1.5.0",
     "state": {
      "_dom_classes": [],
      "_model_module": "@jupyter-widgets/controls",
      "_model_module_version": "1.5.0",
      "_model_name": "HBoxModel",
      "_view_count": null,
      "_view_module": "@jupyter-widgets/controls",
      "_view_module_version": "1.5.0",
      "_view_name": "HBoxView",
      "box_style": "",
      "children": [
       "IPY_MODEL_f89c31f3202f4af68ed346fe96563e54",
       "IPY_MODEL_eff30874209c4d078b9ca05b3c8be695",
       "IPY_MODEL_5076d27e08c643b7a3ac76b62588ad61"
      ],
      "layout": "IPY_MODEL_28df20343e144100ae901d5af8a77c81"
     }
    },
    "f89c31f3202f4af68ed346fe96563e54": {
     "model_module": "@jupyter-widgets/controls",
     "model_name": "HTMLModel",
     "model_module_version": "1.5.0",
     "state": {
      "_dom_classes": [],
      "_model_module": "@jupyter-widgets/controls",
      "_model_module_version": "1.5.0",
      "_model_name": "HTMLModel",
      "_view_count": null,
      "_view_module": "@jupyter-widgets/controls",
      "_view_module_version": "1.5.0",
      "_view_name": "HTMLView",
      "description": "",
      "description_tooltip": null,
      "layout": "IPY_MODEL_f8d52b26c5994b9c95c063e5928f17e7",
      "placeholder": "​",
      "style": "IPY_MODEL_6dbb6d85e2db4cd78e77b3090a4767bb",
      "value": "Downloading readme: 100%"
     }
    },
    "eff30874209c4d078b9ca05b3c8be695": {
     "model_module": "@jupyter-widgets/controls",
     "model_name": "FloatProgressModel",
     "model_module_version": "1.5.0",
     "state": {
      "_dom_classes": [],
      "_model_module": "@jupyter-widgets/controls",
      "_model_module_version": "1.5.0",
      "_model_name": "FloatProgressModel",
      "_view_count": null,
      "_view_module": "@jupyter-widgets/controls",
      "_view_module_version": "1.5.0",
      "_view_name": "ProgressView",
      "bar_style": "success",
      "description": "",
      "description_tooltip": null,
      "layout": "IPY_MODEL_07ff0c3e3e0a4626b42ba521d0de12d0",
      "max": 1316,
      "min": 0,
      "orientation": "horizontal",
      "style": "IPY_MODEL_6aa4fb5b29324e53af7a016332a7becc",
      "value": 1316
     }
    },
    "5076d27e08c643b7a3ac76b62588ad61": {
     "model_module": "@jupyter-widgets/controls",
     "model_name": "HTMLModel",
     "model_module_version": "1.5.0",
     "state": {
      "_dom_classes": [],
      "_model_module": "@jupyter-widgets/controls",
      "_model_module_version": "1.5.0",
      "_model_name": "HTMLModel",
      "_view_count": null,
      "_view_module": "@jupyter-widgets/controls",
      "_view_module_version": "1.5.0",
      "_view_name": "HTMLView",
      "description": "",
      "description_tooltip": null,
      "layout": "IPY_MODEL_32b50529e09d44f28a3c1ba3c37bc4a9",
      "placeholder": "​",
      "style": "IPY_MODEL_a68150b869f548759d7ff96f240088db",
      "value": " 1.32k/1.32k [00:00&lt;00:00, 20.8kB/s]"
     }
    },
    "28df20343e144100ae901d5af8a77c81": {
     "model_module": "@jupyter-widgets/base",
     "model_name": "LayoutModel",
     "model_module_version": "1.2.0",
     "state": {
      "_model_module": "@jupyter-widgets/base",
      "_model_module_version": "1.2.0",
      "_model_name": "LayoutModel",
      "_view_count": null,
      "_view_module": "@jupyter-widgets/base",
      "_view_module_version": "1.2.0",
      "_view_name": "LayoutView",
      "align_content": null,
      "align_items": null,
      "align_self": null,
      "border": null,
      "bottom": null,
      "display": null,
      "flex": null,
      "flex_flow": null,
      "grid_area": null,
      "grid_auto_columns": null,
      "grid_auto_flow": null,
      "grid_auto_rows": null,
      "grid_column": null,
      "grid_gap": null,
      "grid_row": null,
      "grid_template_areas": null,
      "grid_template_columns": null,
      "grid_template_rows": null,
      "height": null,
      "justify_content": null,
      "justify_items": null,
      "left": null,
      "margin": null,
      "max_height": null,
      "max_width": null,
      "min_height": null,
      "min_width": null,
      "object_fit": null,
      "object_position": null,
      "order": null,
      "overflow": null,
      "overflow_x": null,
      "overflow_y": null,
      "padding": null,
      "right": null,
      "top": null,
      "visibility": null,
      "width": null
     }
    },
    "f8d52b26c5994b9c95c063e5928f17e7": {
     "model_module": "@jupyter-widgets/base",
     "model_name": "LayoutModel",
     "model_module_version": "1.2.0",
     "state": {
      "_model_module": "@jupyter-widgets/base",
      "_model_module_version": "1.2.0",
      "_model_name": "LayoutModel",
      "_view_count": null,
      "_view_module": "@jupyter-widgets/base",
      "_view_module_version": "1.2.0",
      "_view_name": "LayoutView",
      "align_content": null,
      "align_items": null,
      "align_self": null,
      "border": null,
      "bottom": null,
      "display": null,
      "flex": null,
      "flex_flow": null,
      "grid_area": null,
      "grid_auto_columns": null,
      "grid_auto_flow": null,
      "grid_auto_rows": null,
      "grid_column": null,
      "grid_gap": null,
      "grid_row": null,
      "grid_template_areas": null,
      "grid_template_columns": null,
      "grid_template_rows": null,
      "height": null,
      "justify_content": null,
      "justify_items": null,
      "left": null,
      "margin": null,
      "max_height": null,
      "max_width": null,
      "min_height": null,
      "min_width": null,
      "object_fit": null,
      "object_position": null,
      "order": null,
      "overflow": null,
      "overflow_x": null,
      "overflow_y": null,
      "padding": null,
      "right": null,
      "top": null,
      "visibility": null,
      "width": null
     }
    },
    "6dbb6d85e2db4cd78e77b3090a4767bb": {
     "model_module": "@jupyter-widgets/controls",
     "model_name": "DescriptionStyleModel",
     "model_module_version": "1.5.0",
     "state": {
      "_model_module": "@jupyter-widgets/controls",
      "_model_module_version": "1.5.0",
      "_model_name": "DescriptionStyleModel",
      "_view_count": null,
      "_view_module": "@jupyter-widgets/base",
      "_view_module_version": "1.2.0",
      "_view_name": "StyleView",
      "description_width": ""
     }
    },
    "07ff0c3e3e0a4626b42ba521d0de12d0": {
     "model_module": "@jupyter-widgets/base",
     "model_name": "LayoutModel",
     "model_module_version": "1.2.0",
     "state": {
      "_model_module": "@jupyter-widgets/base",
      "_model_module_version": "1.2.0",
      "_model_name": "LayoutModel",
      "_view_count": null,
      "_view_module": "@jupyter-widgets/base",
      "_view_module_version": "1.2.0",
      "_view_name": "LayoutView",
      "align_content": null,
      "align_items": null,
      "align_self": null,
      "border": null,
      "bottom": null,
      "display": null,
      "flex": null,
      "flex_flow": null,
      "grid_area": null,
      "grid_auto_columns": null,
      "grid_auto_flow": null,
      "grid_auto_rows": null,
      "grid_column": null,
      "grid_gap": null,
      "grid_row": null,
      "grid_template_areas": null,
      "grid_template_columns": null,
      "grid_template_rows": null,
      "height": null,
      "justify_content": null,
      "justify_items": null,
      "left": null,
      "margin": null,
      "max_height": null,
      "max_width": null,
      "min_height": null,
      "min_width": null,
      "object_fit": null,
      "object_position": null,
      "order": null,
      "overflow": null,
      "overflow_x": null,
      "overflow_y": null,
      "padding": null,
      "right": null,
      "top": null,
      "visibility": null,
      "width": null
     }
    },
    "6aa4fb5b29324e53af7a016332a7becc": {
     "model_module": "@jupyter-widgets/controls",
     "model_name": "ProgressStyleModel",
     "model_module_version": "1.5.0",
     "state": {
      "_model_module": "@jupyter-widgets/controls",
      "_model_module_version": "1.5.0",
      "_model_name": "ProgressStyleModel",
      "_view_count": null,
      "_view_module": "@jupyter-widgets/base",
      "_view_module_version": "1.2.0",
      "_view_name": "StyleView",
      "bar_color": null,
      "description_width": ""
     }
    },
    "32b50529e09d44f28a3c1ba3c37bc4a9": {
     "model_module": "@jupyter-widgets/base",
     "model_name": "LayoutModel",
     "model_module_version": "1.2.0",
     "state": {
      "_model_module": "@jupyter-widgets/base",
      "_model_module_version": "1.2.0",
      "_model_name": "LayoutModel",
      "_view_count": null,
      "_view_module": "@jupyter-widgets/base",
      "_view_module_version": "1.2.0",
      "_view_name": "LayoutView",
      "align_content": null,
      "align_items": null,
      "align_self": null,
      "border": null,
      "bottom": null,
      "display": null,
      "flex": null,
      "flex_flow": null,
      "grid_area": null,
      "grid_auto_columns": null,
      "grid_auto_flow": null,
      "grid_auto_rows": null,
      "grid_column": null,
      "grid_gap": null,
      "grid_row": null,
      "grid_template_areas": null,
      "grid_template_columns": null,
      "grid_template_rows": null,
      "height": null,
      "justify_content": null,
      "justify_items": null,
      "left": null,
      "margin": null,
      "max_height": null,
      "max_width": null,
      "min_height": null,
      "min_width": null,
      "object_fit": null,
      "object_position": null,
      "order": null,
      "overflow": null,
      "overflow_x": null,
      "overflow_y": null,
      "padding": null,
      "right": null,
      "top": null,
      "visibility": null,
      "width": null
     }
    },
    "a68150b869f548759d7ff96f240088db": {
     "model_module": "@jupyter-widgets/controls",
     "model_name": "DescriptionStyleModel",
     "model_module_version": "1.5.0",
     "state": {
      "_model_module": "@jupyter-widgets/controls",
      "_model_module_version": "1.5.0",
      "_model_name": "DescriptionStyleModel",
      "_view_count": null,
      "_view_module": "@jupyter-widgets/base",
      "_view_module_version": "1.2.0",
      "_view_name": "StyleView",
      "description_width": ""
     }
    },
    "dd136b51c01c4548a811cdf5acf2ceed": {
     "model_module": "@jupyter-widgets/controls",
     "model_name": "HBoxModel",
     "model_module_version": "1.5.0",
     "state": {
      "_dom_classes": [],
      "_model_module": "@jupyter-widgets/controls",
      "_model_module_version": "1.5.0",
      "_model_name": "HBoxModel",
      "_view_count": null,
      "_view_module": "@jupyter-widgets/controls",
      "_view_module_version": "1.5.0",
      "_view_name": "HBoxView",
      "box_style": "",
      "children": [
       "IPY_MODEL_a8d0886ed8374e0098b461870bc5532a",
       "IPY_MODEL_2d3a3313b2ec43e8aa11f33aef6d260f",
       "IPY_MODEL_eb295d8457a0480480dd805eca7ab7f7"
      ],
      "layout": "IPY_MODEL_92511d8367cf485bb875affa1f4a1267"
     }
    },
    "a8d0886ed8374e0098b461870bc5532a": {
     "model_module": "@jupyter-widgets/controls",
     "model_name": "HTMLModel",
     "model_module_version": "1.5.0",
     "state": {
      "_dom_classes": [],
      "_model_module": "@jupyter-widgets/controls",
      "_model_module_version": "1.5.0",
      "_model_name": "HTMLModel",
      "_view_count": null,
      "_view_module": "@jupyter-widgets/controls",
      "_view_module_version": "1.5.0",
      "_view_name": "HTMLView",
      "description": "",
      "description_tooltip": null,
      "layout": "IPY_MODEL_e28fd39153434843876353bfbdeea1ec",
      "placeholder": "​",
      "style": "IPY_MODEL_59f88044f91c49738fcfcf31fbfde902",
      "value": "Downloading data files: 100%"
     }
    },
    "2d3a3313b2ec43e8aa11f33aef6d260f": {
     "model_module": "@jupyter-widgets/controls",
     "model_name": "FloatProgressModel",
     "model_module_version": "1.5.0",
     "state": {
      "_dom_classes": [],
      "_model_module": "@jupyter-widgets/controls",
      "_model_module_version": "1.5.0",
      "_model_name": "FloatProgressModel",
      "_view_count": null,
      "_view_module": "@jupyter-widgets/controls",
      "_view_module_version": "1.5.0",
      "_view_name": "ProgressView",
      "bar_style": "success",
      "description": "",
      "description_tooltip": null,
      "layout": "IPY_MODEL_7e7cc34238634ccd88a29210dd6ada37",
      "max": 2,
      "min": 0,
      "orientation": "horizontal",
      "style": "IPY_MODEL_ec5f5061d96b41408632d10d8bf03a03",
      "value": 2
     }
    },
    "eb295d8457a0480480dd805eca7ab7f7": {
     "model_module": "@jupyter-widgets/controls",
     "model_name": "HTMLModel",
     "model_module_version": "1.5.0",
     "state": {
      "_dom_classes": [],
      "_model_module": "@jupyter-widgets/controls",
      "_model_module_version": "1.5.0",
      "_model_name": "HTMLModel",
      "_view_count": null,
      "_view_module": "@jupyter-widgets/controls",
      "_view_module_version": "1.5.0",
      "_view_name": "HTMLView",
      "description": "",
      "description_tooltip": null,
      "layout": "IPY_MODEL_f296717a73c54fd5ae666a8e0f1f1a88",
      "placeholder": "​",
      "style": "IPY_MODEL_79734f5cc55d4d6b86816493a16c3345",
      "value": " 2/2 [00:00&lt;00:00,  3.18it/s]"
     }
    },
    "92511d8367cf485bb875affa1f4a1267": {
     "model_module": "@jupyter-widgets/base",
     "model_name": "LayoutModel",
     "model_module_version": "1.2.0",
     "state": {
      "_model_module": "@jupyter-widgets/base",
      "_model_module_version": "1.2.0",
      "_model_name": "LayoutModel",
      "_view_count": null,
      "_view_module": "@jupyter-widgets/base",
      "_view_module_version": "1.2.0",
      "_view_name": "LayoutView",
      "align_content": null,
      "align_items": null,
      "align_self": null,
      "border": null,
      "bottom": null,
      "display": null,
      "flex": null,
      "flex_flow": null,
      "grid_area": null,
      "grid_auto_columns": null,
      "grid_auto_flow": null,
      "grid_auto_rows": null,
      "grid_column": null,
      "grid_gap": null,
      "grid_row": null,
      "grid_template_areas": null,
      "grid_template_columns": null,
      "grid_template_rows": null,
      "height": null,
      "justify_content": null,
      "justify_items": null,
      "left": null,
      "margin": null,
      "max_height": null,
      "max_width": null,
      "min_height": null,
      "min_width": null,
      "object_fit": null,
      "object_position": null,
      "order": null,
      "overflow": null,
      "overflow_x": null,
      "overflow_y": null,
      "padding": null,
      "right": null,
      "top": null,
      "visibility": null,
      "width": null
     }
    },
    "e28fd39153434843876353bfbdeea1ec": {
     "model_module": "@jupyter-widgets/base",
     "model_name": "LayoutModel",
     "model_module_version": "1.2.0",
     "state": {
      "_model_module": "@jupyter-widgets/base",
      "_model_module_version": "1.2.0",
      "_model_name": "LayoutModel",
      "_view_count": null,
      "_view_module": "@jupyter-widgets/base",
      "_view_module_version": "1.2.0",
      "_view_name": "LayoutView",
      "align_content": null,
      "align_items": null,
      "align_self": null,
      "border": null,
      "bottom": null,
      "display": null,
      "flex": null,
      "flex_flow": null,
      "grid_area": null,
      "grid_auto_columns": null,
      "grid_auto_flow": null,
      "grid_auto_rows": null,
      "grid_column": null,
      "grid_gap": null,
      "grid_row": null,
      "grid_template_areas": null,
      "grid_template_columns": null,
      "grid_template_rows": null,
      "height": null,
      "justify_content": null,
      "justify_items": null,
      "left": null,
      "margin": null,
      "max_height": null,
      "max_width": null,
      "min_height": null,
      "min_width": null,
      "object_fit": null,
      "object_position": null,
      "order": null,
      "overflow": null,
      "overflow_x": null,
      "overflow_y": null,
      "padding": null,
      "right": null,
      "top": null,
      "visibility": null,
      "width": null
     }
    },
    "59f88044f91c49738fcfcf31fbfde902": {
     "model_module": "@jupyter-widgets/controls",
     "model_name": "DescriptionStyleModel",
     "model_module_version": "1.5.0",
     "state": {
      "_model_module": "@jupyter-widgets/controls",
      "_model_module_version": "1.5.0",
      "_model_name": "DescriptionStyleModel",
      "_view_count": null,
      "_view_module": "@jupyter-widgets/base",
      "_view_module_version": "1.2.0",
      "_view_name": "StyleView",
      "description_width": ""
     }
    },
    "7e7cc34238634ccd88a29210dd6ada37": {
     "model_module": "@jupyter-widgets/base",
     "model_name": "LayoutModel",
     "model_module_version": "1.2.0",
     "state": {
      "_model_module": "@jupyter-widgets/base",
      "_model_module_version": "1.2.0",
      "_model_name": "LayoutModel",
      "_view_count": null,
      "_view_module": "@jupyter-widgets/base",
      "_view_module_version": "1.2.0",
      "_view_name": "LayoutView",
      "align_content": null,
      "align_items": null,
      "align_self": null,
      "border": null,
      "bottom": null,
      "display": null,
      "flex": null,
      "flex_flow": null,
      "grid_area": null,
      "grid_auto_columns": null,
      "grid_auto_flow": null,
      "grid_auto_rows": null,
      "grid_column": null,
      "grid_gap": null,
      "grid_row": null,
      "grid_template_areas": null,
      "grid_template_columns": null,
      "grid_template_rows": null,
      "height": null,
      "justify_content": null,
      "justify_items": null,
      "left": null,
      "margin": null,
      "max_height": null,
      "max_width": null,
      "min_height": null,
      "min_width": null,
      "object_fit": null,
      "object_position": null,
      "order": null,
      "overflow": null,
      "overflow_x": null,
      "overflow_y": null,
      "padding": null,
      "right": null,
      "top": null,
      "visibility": null,
      "width": null
     }
    },
    "ec5f5061d96b41408632d10d8bf03a03": {
     "model_module": "@jupyter-widgets/controls",
     "model_name": "ProgressStyleModel",
     "model_module_version": "1.5.0",
     "state": {
      "_model_module": "@jupyter-widgets/controls",
      "_model_module_version": "1.5.0",
      "_model_name": "ProgressStyleModel",
      "_view_count": null,
      "_view_module": "@jupyter-widgets/base",
      "_view_module_version": "1.2.0",
      "_view_name": "StyleView",
      "bar_color": null,
      "description_width": ""
     }
    },
    "f296717a73c54fd5ae666a8e0f1f1a88": {
     "model_module": "@jupyter-widgets/base",
     "model_name": "LayoutModel",
     "model_module_version": "1.2.0",
     "state": {
      "_model_module": "@jupyter-widgets/base",
      "_model_module_version": "1.2.0",
      "_model_name": "LayoutModel",
      "_view_count": null,
      "_view_module": "@jupyter-widgets/base",
      "_view_module_version": "1.2.0",
      "_view_name": "LayoutView",
      "align_content": null,
      "align_items": null,
      "align_self": null,
      "border": null,
      "bottom": null,
      "display": null,
      "flex": null,
      "flex_flow": null,
      "grid_area": null,
      "grid_auto_columns": null,
      "grid_auto_flow": null,
      "grid_auto_rows": null,
      "grid_column": null,
      "grid_gap": null,
      "grid_row": null,
      "grid_template_areas": null,
      "grid_template_columns": null,
      "grid_template_rows": null,
      "height": null,
      "justify_content": null,
      "justify_items": null,
      "left": null,
      "margin": null,
      "max_height": null,
      "max_width": null,
      "min_height": null,
      "min_width": null,
      "object_fit": null,
      "object_position": null,
      "order": null,
      "overflow": null,
      "overflow_x": null,
      "overflow_y": null,
      "padding": null,
      "right": null,
      "top": null,
      "visibility": null,
      "width": null
     }
    },
    "79734f5cc55d4d6b86816493a16c3345": {
     "model_module": "@jupyter-widgets/controls",
     "model_name": "DescriptionStyleModel",
     "model_module_version": "1.5.0",
     "state": {
      "_model_module": "@jupyter-widgets/controls",
      "_model_module_version": "1.5.0",
      "_model_name": "DescriptionStyleModel",
      "_view_count": null,
      "_view_module": "@jupyter-widgets/base",
      "_view_module_version": "1.2.0",
      "_view_name": "StyleView",
      "description_width": ""
     }
    },
    "e3b32e389d824d69aa409a2adf5b0137": {
     "model_module": "@jupyter-widgets/controls",
     "model_name": "HBoxModel",
     "model_module_version": "1.5.0",
     "state": {
      "_dom_classes": [],
      "_model_module": "@jupyter-widgets/controls",
      "_model_module_version": "1.5.0",
      "_model_name": "HBoxModel",
      "_view_count": null,
      "_view_module": "@jupyter-widgets/controls",
      "_view_module_version": "1.5.0",
      "_view_name": "HBoxView",
      "box_style": "",
      "children": [
       "IPY_MODEL_f2020bd06d3f408d97c5641600f4bc0b",
       "IPY_MODEL_080458a3957646be80fe339c64a8e7c7",
       "IPY_MODEL_95136e9650a1401fac52e0721c600a6a"
      ],
      "layout": "IPY_MODEL_a36a745e0c9c4fe68be047a07a43ac20"
     }
    },
    "f2020bd06d3f408d97c5641600f4bc0b": {
     "model_module": "@jupyter-widgets/controls",
     "model_name": "HTMLModel",
     "model_module_version": "1.5.0",
     "state": {
      "_dom_classes": [],
      "_model_module": "@jupyter-widgets/controls",
      "_model_module_version": "1.5.0",
      "_model_name": "HTMLModel",
      "_view_count": null,
      "_view_module": "@jupyter-widgets/controls",
      "_view_module_version": "1.5.0",
      "_view_name": "HTMLView",
      "description": "",
      "description_tooltip": null,
      "layout": "IPY_MODEL_3c44ce211fa347bb872c92a68f30bd85",
      "placeholder": "​",
      "style": "IPY_MODEL_2331085366594065aff254933ed69628",
      "value": "Downloading data: 100%"
     }
    },
    "080458a3957646be80fe339c64a8e7c7": {
     "model_module": "@jupyter-widgets/controls",
     "model_name": "FloatProgressModel",
     "model_module_version": "1.5.0",
     "state": {
      "_dom_classes": [],
      "_model_module": "@jupyter-widgets/controls",
      "_model_module_version": "1.5.0",
      "_model_name": "FloatProgressModel",
      "_view_count": null,
      "_view_module": "@jupyter-widgets/controls",
      "_view_module_version": "1.5.0",
      "_view_name": "ProgressView",
      "bar_style": "success",
      "description": "",
      "description_tooltip": null,
      "layout": "IPY_MODEL_11f4a0dd7a6a430eabb15ecf419b263c",
      "max": 4222281,
      "min": 0,
      "orientation": "horizontal",
      "style": "IPY_MODEL_1875e92a774c49598c54d01f8c96a7b7",
      "value": 4222281
     }
    },
    "95136e9650a1401fac52e0721c600a6a": {
     "model_module": "@jupyter-widgets/controls",
     "model_name": "HTMLModel",
     "model_module_version": "1.5.0",
     "state": {
      "_dom_classes": [],
      "_model_module": "@jupyter-widgets/controls",
      "_model_module_version": "1.5.0",
      "_model_name": "HTMLModel",
      "_view_count": null,
      "_view_module": "@jupyter-widgets/controls",
      "_view_module_version": "1.5.0",
      "_view_name": "HTMLView",
      "description": "",
      "description_tooltip": null,
      "layout": "IPY_MODEL_c37635ef02d44995811826b8400c7f86",
      "placeholder": "​",
      "style": "IPY_MODEL_396321ea97b545a797b900cbbb3e3719",
      "value": " 4.22M/4.22M [00:00&lt;00:00, 11.2MB/s]"
     }
    },
    "a36a745e0c9c4fe68be047a07a43ac20": {
     "model_module": "@jupyter-widgets/base",
     "model_name": "LayoutModel",
     "model_module_version": "1.2.0",
     "state": {
      "_model_module": "@jupyter-widgets/base",
      "_model_module_version": "1.2.0",
      "_model_name": "LayoutModel",
      "_view_count": null,
      "_view_module": "@jupyter-widgets/base",
      "_view_module_version": "1.2.0",
      "_view_name": "LayoutView",
      "align_content": null,
      "align_items": null,
      "align_self": null,
      "border": null,
      "bottom": null,
      "display": null,
      "flex": null,
      "flex_flow": null,
      "grid_area": null,
      "grid_auto_columns": null,
      "grid_auto_flow": null,
      "grid_auto_rows": null,
      "grid_column": null,
      "grid_gap": null,
      "grid_row": null,
      "grid_template_areas": null,
      "grid_template_columns": null,
      "grid_template_rows": null,
      "height": null,
      "justify_content": null,
      "justify_items": null,
      "left": null,
      "margin": null,
      "max_height": null,
      "max_width": null,
      "min_height": null,
      "min_width": null,
      "object_fit": null,
      "object_position": null,
      "order": null,
      "overflow": null,
      "overflow_x": null,
      "overflow_y": null,
      "padding": null,
      "right": null,
      "top": null,
      "visibility": null,
      "width": null
     }
    },
    "3c44ce211fa347bb872c92a68f30bd85": {
     "model_module": "@jupyter-widgets/base",
     "model_name": "LayoutModel",
     "model_module_version": "1.2.0",
     "state": {
      "_model_module": "@jupyter-widgets/base",
      "_model_module_version": "1.2.0",
      "_model_name": "LayoutModel",
      "_view_count": null,
      "_view_module": "@jupyter-widgets/base",
      "_view_module_version": "1.2.0",
      "_view_name": "LayoutView",
      "align_content": null,
      "align_items": null,
      "align_self": null,
      "border": null,
      "bottom": null,
      "display": null,
      "flex": null,
      "flex_flow": null,
      "grid_area": null,
      "grid_auto_columns": null,
      "grid_auto_flow": null,
      "grid_auto_rows": null,
      "grid_column": null,
      "grid_gap": null,
      "grid_row": null,
      "grid_template_areas": null,
      "grid_template_columns": null,
      "grid_template_rows": null,
      "height": null,
      "justify_content": null,
      "justify_items": null,
      "left": null,
      "margin": null,
      "max_height": null,
      "max_width": null,
      "min_height": null,
      "min_width": null,
      "object_fit": null,
      "object_position": null,
      "order": null,
      "overflow": null,
      "overflow_x": null,
      "overflow_y": null,
      "padding": null,
      "right": null,
      "top": null,
      "visibility": null,
      "width": null
     }
    },
    "2331085366594065aff254933ed69628": {
     "model_module": "@jupyter-widgets/controls",
     "model_name": "DescriptionStyleModel",
     "model_module_version": "1.5.0",
     "state": {
      "_model_module": "@jupyter-widgets/controls",
      "_model_module_version": "1.5.0",
      "_model_name": "DescriptionStyleModel",
      "_view_count": null,
      "_view_module": "@jupyter-widgets/base",
      "_view_module_version": "1.2.0",
      "_view_name": "StyleView",
      "description_width": ""
     }
    },
    "11f4a0dd7a6a430eabb15ecf419b263c": {
     "model_module": "@jupyter-widgets/base",
     "model_name": "LayoutModel",
     "model_module_version": "1.2.0",
     "state": {
      "_model_module": "@jupyter-widgets/base",
      "_model_module_version": "1.2.0",
      "_model_name": "LayoutModel",
      "_view_count": null,
      "_view_module": "@jupyter-widgets/base",
      "_view_module_version": "1.2.0",
      "_view_name": "LayoutView",
      "align_content": null,
      "align_items": null,
      "align_self": null,
      "border": null,
      "bottom": null,
      "display": null,
      "flex": null,
      "flex_flow": null,
      "grid_area": null,
      "grid_auto_columns": null,
      "grid_auto_flow": null,
      "grid_auto_rows": null,
      "grid_column": null,
      "grid_gap": null,
      "grid_row": null,
      "grid_template_areas": null,
      "grid_template_columns": null,
      "grid_template_rows": null,
      "height": null,
      "justify_content": null,
      "justify_items": null,
      "left": null,
      "margin": null,
      "max_height": null,
      "max_width": null,
      "min_height": null,
      "min_width": null,
      "object_fit": null,
      "object_position": null,
      "order": null,
      "overflow": null,
      "overflow_x": null,
      "overflow_y": null,
      "padding": null,
      "right": null,
      "top": null,
      "visibility": null,
      "width": null
     }
    },
    "1875e92a774c49598c54d01f8c96a7b7": {
     "model_module": "@jupyter-widgets/controls",
     "model_name": "ProgressStyleModel",
     "model_module_version": "1.5.0",
     "state": {
      "_model_module": "@jupyter-widgets/controls",
      "_model_module_version": "1.5.0",
      "_model_name": "ProgressStyleModel",
      "_view_count": null,
      "_view_module": "@jupyter-widgets/base",
      "_view_module_version": "1.2.0",
      "_view_name": "StyleView",
      "bar_color": null,
      "description_width": ""
     }
    },
    "c37635ef02d44995811826b8400c7f86": {
     "model_module": "@jupyter-widgets/base",
     "model_name": "LayoutModel",
     "model_module_version": "1.2.0",
     "state": {
      "_model_module": "@jupyter-widgets/base",
      "_model_module_version": "1.2.0",
      "_model_name": "LayoutModel",
      "_view_count": null,
      "_view_module": "@jupyter-widgets/base",
      "_view_module_version": "1.2.0",
      "_view_name": "LayoutView",
      "align_content": null,
      "align_items": null,
      "align_self": null,
      "border": null,
      "bottom": null,
      "display": null,
      "flex": null,
      "flex_flow": null,
      "grid_area": null,
      "grid_auto_columns": null,
      "grid_auto_flow": null,
      "grid_auto_rows": null,
      "grid_column": null,
      "grid_gap": null,
      "grid_row": null,
      "grid_template_areas": null,
      "grid_template_columns": null,
      "grid_template_rows": null,
      "height": null,
      "justify_content": null,
      "justify_items": null,
      "left": null,
      "margin": null,
      "max_height": null,
      "max_width": null,
      "min_height": null,
      "min_width": null,
      "object_fit": null,
      "object_position": null,
      "order": null,
      "overflow": null,
      "overflow_x": null,
      "overflow_y": null,
      "padding": null,
      "right": null,
      "top": null,
      "visibility": null,
      "width": null
     }
    },
    "396321ea97b545a797b900cbbb3e3719": {
     "model_module": "@jupyter-widgets/controls",
     "model_name": "DescriptionStyleModel",
     "model_module_version": "1.5.0",
     "state": {
      "_model_module": "@jupyter-widgets/controls",
      "_model_module_version": "1.5.0",
      "_model_name": "DescriptionStyleModel",
      "_view_count": null,
      "_view_module": "@jupyter-widgets/base",
      "_view_module_version": "1.2.0",
      "_view_name": "StyleView",
      "description_width": ""
     }
    },
    "95e948b9c2224c68805951d05d7090c3": {
     "model_module": "@jupyter-widgets/controls",
     "model_name": "HBoxModel",
     "model_module_version": "1.5.0",
     "state": {
      "_dom_classes": [],
      "_model_module": "@jupyter-widgets/controls",
      "_model_module_version": "1.5.0",
      "_model_name": "HBoxModel",
      "_view_count": null,
      "_view_module": "@jupyter-widgets/controls",
      "_view_module_version": "1.5.0",
      "_view_name": "HBoxView",
      "box_style": "",
      "children": [
       "IPY_MODEL_7238f312697a4839a3e2f248bfdb5d0a",
       "IPY_MODEL_5d8473c8d18649e599dffa8c26064500",
       "IPY_MODEL_6bf6a6aafbb0409b8e40291dd8ea22b1"
      ],
      "layout": "IPY_MODEL_b61004d67dd746ecaf176ccb5a1a2944"
     }
    },
    "7238f312697a4839a3e2f248bfdb5d0a": {
     "model_module": "@jupyter-widgets/controls",
     "model_name": "HTMLModel",
     "model_module_version": "1.5.0",
     "state": {
      "_dom_classes": [],
      "_model_module": "@jupyter-widgets/controls",
      "_model_module_version": "1.5.0",
      "_model_name": "HTMLModel",
      "_view_count": null,
      "_view_module": "@jupyter-widgets/controls",
      "_view_module_version": "1.5.0",
      "_view_name": "HTMLView",
      "description": "",
      "description_tooltip": null,
      "layout": "IPY_MODEL_1f61dbb187c94ca6b136a91e17ccfb76",
      "placeholder": "​",
      "style": "IPY_MODEL_77f5418f65954de49e1142accc3c5538",
      "value": "Downloading data: 100%"
     }
    },
    "5d8473c8d18649e599dffa8c26064500": {
     "model_module": "@jupyter-widgets/controls",
     "model_name": "FloatProgressModel",
     "model_module_version": "1.5.0",
     "state": {
      "_dom_classes": [],
      "_model_module": "@jupyter-widgets/controls",
      "_model_module_version": "1.5.0",
      "_model_name": "FloatProgressModel",
      "_view_count": null,
      "_view_module": "@jupyter-widgets/controls",
      "_view_module_version": "1.5.0",
      "_view_name": "ProgressView",
      "bar_style": "success",
      "description": "",
      "description_tooltip": null,
      "layout": "IPY_MODEL_46f80815d1604a41a08fc8a5673e0ee2",
      "max": 1056478,
      "min": 0,
      "orientation": "horizontal",
      "style": "IPY_MODEL_9ac1f3e7a08a4c6fb49683a8e061f470",
      "value": 1056478
     }
    },
    "6bf6a6aafbb0409b8e40291dd8ea22b1": {
     "model_module": "@jupyter-widgets/controls",
     "model_name": "HTMLModel",
     "model_module_version": "1.5.0",
     "state": {
      "_dom_classes": [],
      "_model_module": "@jupyter-widgets/controls",
      "_model_module_version": "1.5.0",
      "_model_name": "HTMLModel",
      "_view_count": null,
      "_view_module": "@jupyter-widgets/controls",
      "_view_module_version": "1.5.0",
      "_view_name": "HTMLView",
      "description": "",
      "description_tooltip": null,
      "layout": "IPY_MODEL_c3feba2e58054da9a2fbf224b4529093",
      "placeholder": "​",
      "style": "IPY_MODEL_64710d0957d54da29762cb6edda202c2",
      "value": " 1.06M/1.06M [00:00&lt;00:00, 10.5MB/s]"
     }
    },
    "b61004d67dd746ecaf176ccb5a1a2944": {
     "model_module": "@jupyter-widgets/base",
     "model_name": "LayoutModel",
     "model_module_version": "1.2.0",
     "state": {
      "_model_module": "@jupyter-widgets/base",
      "_model_module_version": "1.2.0",
      "_model_name": "LayoutModel",
      "_view_count": null,
      "_view_module": "@jupyter-widgets/base",
      "_view_module_version": "1.2.0",
      "_view_name": "LayoutView",
      "align_content": null,
      "align_items": null,
      "align_self": null,
      "border": null,
      "bottom": null,
      "display": null,
      "flex": null,
      "flex_flow": null,
      "grid_area": null,
      "grid_auto_columns": null,
      "grid_auto_flow": null,
      "grid_auto_rows": null,
      "grid_column": null,
      "grid_gap": null,
      "grid_row": null,
      "grid_template_areas": null,
      "grid_template_columns": null,
      "grid_template_rows": null,
      "height": null,
      "justify_content": null,
      "justify_items": null,
      "left": null,
      "margin": null,
      "max_height": null,
      "max_width": null,
      "min_height": null,
      "min_width": null,
      "object_fit": null,
      "object_position": null,
      "order": null,
      "overflow": null,
      "overflow_x": null,
      "overflow_y": null,
      "padding": null,
      "right": null,
      "top": null,
      "visibility": null,
      "width": null
     }
    },
    "1f61dbb187c94ca6b136a91e17ccfb76": {
     "model_module": "@jupyter-widgets/base",
     "model_name": "LayoutModel",
     "model_module_version": "1.2.0",
     "state": {
      "_model_module": "@jupyter-widgets/base",
      "_model_module_version": "1.2.0",
      "_model_name": "LayoutModel",
      "_view_count": null,
      "_view_module": "@jupyter-widgets/base",
      "_view_module_version": "1.2.0",
      "_view_name": "LayoutView",
      "align_content": null,
      "align_items": null,
      "align_self": null,
      "border": null,
      "bottom": null,
      "display": null,
      "flex": null,
      "flex_flow": null,
      "grid_area": null,
      "grid_auto_columns": null,
      "grid_auto_flow": null,
      "grid_auto_rows": null,
      "grid_column": null,
      "grid_gap": null,
      "grid_row": null,
      "grid_template_areas": null,
      "grid_template_columns": null,
      "grid_template_rows": null,
      "height": null,
      "justify_content": null,
      "justify_items": null,
      "left": null,
      "margin": null,
      "max_height": null,
      "max_width": null,
      "min_height": null,
      "min_width": null,
      "object_fit": null,
      "object_position": null,
      "order": null,
      "overflow": null,
      "overflow_x": null,
      "overflow_y": null,
      "padding": null,
      "right": null,
      "top": null,
      "visibility": null,
      "width": null
     }
    },
    "77f5418f65954de49e1142accc3c5538": {
     "model_module": "@jupyter-widgets/controls",
     "model_name": "DescriptionStyleModel",
     "model_module_version": "1.5.0",
     "state": {
      "_model_module": "@jupyter-widgets/controls",
      "_model_module_version": "1.5.0",
      "_model_name": "DescriptionStyleModel",
      "_view_count": null,
      "_view_module": "@jupyter-widgets/base",
      "_view_module_version": "1.2.0",
      "_view_name": "StyleView",
      "description_width": ""
     }
    },
    "46f80815d1604a41a08fc8a5673e0ee2": {
     "model_module": "@jupyter-widgets/base",
     "model_name": "LayoutModel",
     "model_module_version": "1.2.0",
     "state": {
      "_model_module": "@jupyter-widgets/base",
      "_model_module_version": "1.2.0",
      "_model_name": "LayoutModel",
      "_view_count": null,
      "_view_module": "@jupyter-widgets/base",
      "_view_module_version": "1.2.0",
      "_view_name": "LayoutView",
      "align_content": null,
      "align_items": null,
      "align_self": null,
      "border": null,
      "bottom": null,
      "display": null,
      "flex": null,
      "flex_flow": null,
      "grid_area": null,
      "grid_auto_columns": null,
      "grid_auto_flow": null,
      "grid_auto_rows": null,
      "grid_column": null,
      "grid_gap": null,
      "grid_row": null,
      "grid_template_areas": null,
      "grid_template_columns": null,
      "grid_template_rows": null,
      "height": null,
      "justify_content": null,
      "justify_items": null,
      "left": null,
      "margin": null,
      "max_height": null,
      "max_width": null,
      "min_height": null,
      "min_width": null,
      "object_fit": null,
      "object_position": null,
      "order": null,
      "overflow": null,
      "overflow_x": null,
      "overflow_y": null,
      "padding": null,
      "right": null,
      "top": null,
      "visibility": null,
      "width": null
     }
    },
    "9ac1f3e7a08a4c6fb49683a8e061f470": {
     "model_module": "@jupyter-widgets/controls",
     "model_name": "ProgressStyleModel",
     "model_module_version": "1.5.0",
     "state": {
      "_model_module": "@jupyter-widgets/controls",
      "_model_module_version": "1.5.0",
      "_model_name": "ProgressStyleModel",
      "_view_count": null,
      "_view_module": "@jupyter-widgets/base",
      "_view_module_version": "1.2.0",
      "_view_name": "StyleView",
      "bar_color": null,
      "description_width": ""
     }
    },
    "c3feba2e58054da9a2fbf224b4529093": {
     "model_module": "@jupyter-widgets/base",
     "model_name": "LayoutModel",
     "model_module_version": "1.2.0",
     "state": {
      "_model_module": "@jupyter-widgets/base",
      "_model_module_version": "1.2.0",
      "_model_name": "LayoutModel",
      "_view_count": null,
      "_view_module": "@jupyter-widgets/base",
      "_view_module_version": "1.2.0",
      "_view_name": "LayoutView",
      "align_content": null,
      "align_items": null,
      "align_self": null,
      "border": null,
      "bottom": null,
      "display": null,
      "flex": null,
      "flex_flow": null,
      "grid_area": null,
      "grid_auto_columns": null,
      "grid_auto_flow": null,
      "grid_auto_rows": null,
      "grid_column": null,
      "grid_gap": null,
      "grid_row": null,
      "grid_template_areas": null,
      "grid_template_columns": null,
      "grid_template_rows": null,
      "height": null,
      "justify_content": null,
      "justify_items": null,
      "left": null,
      "margin": null,
      "max_height": null,
      "max_width": null,
      "min_height": null,
      "min_width": null,
      "object_fit": null,
      "object_position": null,
      "order": null,
      "overflow": null,
      "overflow_x": null,
      "overflow_y": null,
      "padding": null,
      "right": null,
      "top": null,
      "visibility": null,
      "width": null
     }
    },
    "64710d0957d54da29762cb6edda202c2": {
     "model_module": "@jupyter-widgets/controls",
     "model_name": "DescriptionStyleModel",
     "model_module_version": "1.5.0",
     "state": {
      "_model_module": "@jupyter-widgets/controls",
      "_model_module_version": "1.5.0",
      "_model_name": "DescriptionStyleModel",
      "_view_count": null,
      "_view_module": "@jupyter-widgets/base",
      "_view_module_version": "1.2.0",
      "_view_name": "StyleView",
      "description_width": ""
     }
    },
    "0ee4fcf3d4d24be08ecf1d85c7f7811a": {
     "model_module": "@jupyter-widgets/controls",
     "model_name": "HBoxModel",
     "model_module_version": "1.5.0",
     "state": {
      "_dom_classes": [],
      "_model_module": "@jupyter-widgets/controls",
      "_model_module_version": "1.5.0",
      "_model_name": "HBoxModel",
      "_view_count": null,
      "_view_module": "@jupyter-widgets/controls",
      "_view_module_version": "1.5.0",
      "_view_name": "HBoxView",
      "box_style": "",
      "children": [
       "IPY_MODEL_e33d026ce7744a7087e3267c2c2b5c55",
       "IPY_MODEL_9d492e501e5742b992ad8f00706ed8f4",
       "IPY_MODEL_181539f3db2b4415a150834c60d1bc0f"
      ],
      "layout": "IPY_MODEL_c055ef52681f48998c37989cf8ef1198"
     }
    },
    "e33d026ce7744a7087e3267c2c2b5c55": {
     "model_module": "@jupyter-widgets/controls",
     "model_name": "HTMLModel",
     "model_module_version": "1.5.0",
     "state": {
      "_dom_classes": [],
      "_model_module": "@jupyter-widgets/controls",
      "_model_module_version": "1.5.0",
      "_model_name": "HTMLModel",
      "_view_count": null,
      "_view_module": "@jupyter-widgets/controls",
      "_view_module_version": "1.5.0",
      "_view_name": "HTMLView",
      "description": "",
      "description_tooltip": null,
      "layout": "IPY_MODEL_caf343a5c7f04848b96568295633e741",
      "placeholder": "​",
      "style": "IPY_MODEL_738d5917ff9c4e918bafde68dccef7ab",
      "value": "Extracting data files: 100%"
     }
    },
    "9d492e501e5742b992ad8f00706ed8f4": {
     "model_module": "@jupyter-widgets/controls",
     "model_name": "FloatProgressModel",
     "model_module_version": "1.5.0",
     "state": {
      "_dom_classes": [],
      "_model_module": "@jupyter-widgets/controls",
      "_model_module_version": "1.5.0",
      "_model_name": "FloatProgressModel",
      "_view_count": null,
      "_view_module": "@jupyter-widgets/controls",
      "_view_module_version": "1.5.0",
      "_view_name": "ProgressView",
      "bar_style": "success",
      "description": "",
      "description_tooltip": null,
      "layout": "IPY_MODEL_f4260d41467541408d81719c43c02214",
      "max": 2,
      "min": 0,
      "orientation": "horizontal",
      "style": "IPY_MODEL_8fe2473f689b4e98bb6cc6ec20f64a57",
      "value": 2
     }
    },
    "181539f3db2b4415a150834c60d1bc0f": {
     "model_module": "@jupyter-widgets/controls",
     "model_name": "HTMLModel",
     "model_module_version": "1.5.0",
     "state": {
      "_dom_classes": [],
      "_model_module": "@jupyter-widgets/controls",
      "_model_module_version": "1.5.0",
      "_model_name": "HTMLModel",
      "_view_count": null,
      "_view_module": "@jupyter-widgets/controls",
      "_view_module_version": "1.5.0",
      "_view_name": "HTMLView",
      "description": "",
      "description_tooltip": null,
      "layout": "IPY_MODEL_19cec8b2bbf2418a83cd5d6c56bff549",
      "placeholder": "​",
      "style": "IPY_MODEL_5658abc1135e4336b0d944675335af7c",
      "value": " 2/2 [00:00&lt;00:00, 29.94it/s]"
     }
    },
    "c055ef52681f48998c37989cf8ef1198": {
     "model_module": "@jupyter-widgets/base",
     "model_name": "LayoutModel",
     "model_module_version": "1.2.0",
     "state": {
      "_model_module": "@jupyter-widgets/base",
      "_model_module_version": "1.2.0",
      "_model_name": "LayoutModel",
      "_view_count": null,
      "_view_module": "@jupyter-widgets/base",
      "_view_module_version": "1.2.0",
      "_view_name": "LayoutView",
      "align_content": null,
      "align_items": null,
      "align_self": null,
      "border": null,
      "bottom": null,
      "display": null,
      "flex": null,
      "flex_flow": null,
      "grid_area": null,
      "grid_auto_columns": null,
      "grid_auto_flow": null,
      "grid_auto_rows": null,
      "grid_column": null,
      "grid_gap": null,
      "grid_row": null,
      "grid_template_areas": null,
      "grid_template_columns": null,
      "grid_template_rows": null,
      "height": null,
      "justify_content": null,
      "justify_items": null,
      "left": null,
      "margin": null,
      "max_height": null,
      "max_width": null,
      "min_height": null,
      "min_width": null,
      "object_fit": null,
      "object_position": null,
      "order": null,
      "overflow": null,
      "overflow_x": null,
      "overflow_y": null,
      "padding": null,
      "right": null,
      "top": null,
      "visibility": null,
      "width": null
     }
    },
    "caf343a5c7f04848b96568295633e741": {
     "model_module": "@jupyter-widgets/base",
     "model_name": "LayoutModel",
     "model_module_version": "1.2.0",
     "state": {
      "_model_module": "@jupyter-widgets/base",
      "_model_module_version": "1.2.0",
      "_model_name": "LayoutModel",
      "_view_count": null,
      "_view_module": "@jupyter-widgets/base",
      "_view_module_version": "1.2.0",
      "_view_name": "LayoutView",
      "align_content": null,
      "align_items": null,
      "align_self": null,
      "border": null,
      "bottom": null,
      "display": null,
      "flex": null,
      "flex_flow": null,
      "grid_area": null,
      "grid_auto_columns": null,
      "grid_auto_flow": null,
      "grid_auto_rows": null,
      "grid_column": null,
      "grid_gap": null,
      "grid_row": null,
      "grid_template_areas": null,
      "grid_template_columns": null,
      "grid_template_rows": null,
      "height": null,
      "justify_content": null,
      "justify_items": null,
      "left": null,
      "margin": null,
      "max_height": null,
      "max_width": null,
      "min_height": null,
      "min_width": null,
      "object_fit": null,
      "object_position": null,
      "order": null,
      "overflow": null,
      "overflow_x": null,
      "overflow_y": null,
      "padding": null,
      "right": null,
      "top": null,
      "visibility": null,
      "width": null
     }
    },
    "738d5917ff9c4e918bafde68dccef7ab": {
     "model_module": "@jupyter-widgets/controls",
     "model_name": "DescriptionStyleModel",
     "model_module_version": "1.5.0",
     "state": {
      "_model_module": "@jupyter-widgets/controls",
      "_model_module_version": "1.5.0",
      "_model_name": "DescriptionStyleModel",
      "_view_count": null,
      "_view_module": "@jupyter-widgets/base",
      "_view_module_version": "1.2.0",
      "_view_name": "StyleView",
      "description_width": ""
     }
    },
    "f4260d41467541408d81719c43c02214": {
     "model_module": "@jupyter-widgets/base",
     "model_name": "LayoutModel",
     "model_module_version": "1.2.0",
     "state": {
      "_model_module": "@jupyter-widgets/base",
      "_model_module_version": "1.2.0",
      "_model_name": "LayoutModel",
      "_view_count": null,
      "_view_module": "@jupyter-widgets/base",
      "_view_module_version": "1.2.0",
      "_view_name": "LayoutView",
      "align_content": null,
      "align_items": null,
      "align_self": null,
      "border": null,
      "bottom": null,
      "display": null,
      "flex": null,
      "flex_flow": null,
      "grid_area": null,
      "grid_auto_columns": null,
      "grid_auto_flow": null,
      "grid_auto_rows": null,
      "grid_column": null,
      "grid_gap": null,
      "grid_row": null,
      "grid_template_areas": null,
      "grid_template_columns": null,
      "grid_template_rows": null,
      "height": null,
      "justify_content": null,
      "justify_items": null,
      "left": null,
      "margin": null,
      "max_height": null,
      "max_width": null,
      "min_height": null,
      "min_width": null,
      "object_fit": null,
      "object_position": null,
      "order": null,
      "overflow": null,
      "overflow_x": null,
      "overflow_y": null,
      "padding": null,
      "right": null,
      "top": null,
      "visibility": null,
      "width": null
     }
    },
    "8fe2473f689b4e98bb6cc6ec20f64a57": {
     "model_module": "@jupyter-widgets/controls",
     "model_name": "ProgressStyleModel",
     "model_module_version": "1.5.0",
     "state": {
      "_model_module": "@jupyter-widgets/controls",
      "_model_module_version": "1.5.0",
      "_model_name": "ProgressStyleModel",
      "_view_count": null,
      "_view_module": "@jupyter-widgets/base",
      "_view_module_version": "1.2.0",
      "_view_name": "StyleView",
      "bar_color": null,
      "description_width": ""
     }
    },
    "19cec8b2bbf2418a83cd5d6c56bff549": {
     "model_module": "@jupyter-widgets/base",
     "model_name": "LayoutModel",
     "model_module_version": "1.2.0",
     "state": {
      "_model_module": "@jupyter-widgets/base",
      "_model_module_version": "1.2.0",
      "_model_name": "LayoutModel",
      "_view_count": null,
      "_view_module": "@jupyter-widgets/base",
      "_view_module_version": "1.2.0",
      "_view_name": "LayoutView",
      "align_content": null,
      "align_items": null,
      "align_self": null,
      "border": null,
      "bottom": null,
      "display": null,
      "flex": null,
      "flex_flow": null,
      "grid_area": null,
      "grid_auto_columns": null,
      "grid_auto_flow": null,
      "grid_auto_rows": null,
      "grid_column": null,
      "grid_gap": null,
      "grid_row": null,
      "grid_template_areas": null,
      "grid_template_columns": null,
      "grid_template_rows": null,
      "height": null,
      "justify_content": null,
      "justify_items": null,
      "left": null,
      "margin": null,
      "max_height": null,
      "max_width": null,
      "min_height": null,
      "min_width": null,
      "object_fit": null,
      "object_position": null,
      "order": null,
      "overflow": null,
      "overflow_x": null,
      "overflow_y": null,
      "padding": null,
      "right": null,
      "top": null,
      "visibility": null,
      "width": null
     }
    },
    "5658abc1135e4336b0d944675335af7c": {
     "model_module": "@jupyter-widgets/controls",
     "model_name": "DescriptionStyleModel",
     "model_module_version": "1.5.0",
     "state": {
      "_model_module": "@jupyter-widgets/controls",
      "_model_module_version": "1.5.0",
      "_model_name": "DescriptionStyleModel",
      "_view_count": null,
      "_view_module": "@jupyter-widgets/base",
      "_view_module_version": "1.2.0",
      "_view_name": "StyleView",
      "description_width": ""
     }
    },
    "d6eefc6af1224bf383f8907ab0ebce79": {
     "model_module": "@jupyter-widgets/controls",
     "model_name": "HBoxModel",
     "model_module_version": "1.5.0",
     "state": {
      "_dom_classes": [],
      "_model_module": "@jupyter-widgets/controls",
      "_model_module_version": "1.5.0",
      "_model_name": "HBoxModel",
      "_view_count": null,
      "_view_module": "@jupyter-widgets/controls",
      "_view_module_version": "1.5.0",
      "_view_name": "HBoxView",
      "box_style": "",
      "children": [
       "IPY_MODEL_9193dfa530f64d2d9e4f91825f26f7f3",
       "IPY_MODEL_d3b0bae931da4bc5aa242943ee0974da",
       "IPY_MODEL_858dbd3d88ee477c90c3051acac9dfd2"
      ],
      "layout": "IPY_MODEL_70d6e709e3e64d0dbcfcccbe8cbfa2f5"
     }
    },
    "9193dfa530f64d2d9e4f91825f26f7f3": {
     "model_module": "@jupyter-widgets/controls",
     "model_name": "HTMLModel",
     "model_module_version": "1.5.0",
     "state": {
      "_dom_classes": [],
      "_model_module": "@jupyter-widgets/controls",
      "_model_module_version": "1.5.0",
      "_model_name": "HTMLModel",
      "_view_count": null,
      "_view_module": "@jupyter-widgets/controls",
      "_view_module_version": "1.5.0",
      "_view_name": "HTMLView",
      "description": "",
      "description_tooltip": null,
      "layout": "IPY_MODEL_0104096444454b87aa55bcafbda6b3fd",
      "placeholder": "​",
      "style": "IPY_MODEL_7cb3638599cc4b938dd96d72b9739c6d",
      "value": ""
     }
    },
    "d3b0bae931da4bc5aa242943ee0974da": {
     "model_module": "@jupyter-widgets/controls",
     "model_name": "FloatProgressModel",
     "model_module_version": "1.5.0",
     "state": {
      "_dom_classes": [],
      "_model_module": "@jupyter-widgets/controls",
      "_model_module_version": "1.5.0",
      "_model_name": "FloatProgressModel",
      "_view_count": null,
      "_view_module": "@jupyter-widgets/controls",
      "_view_module_version": "1.5.0",
      "_view_name": "ProgressView",
      "bar_style": "info",
      "description": "",
      "description_tooltip": null,
      "layout": "IPY_MODEL_579baf51f08247fe97c83fd2d593f6cb",
      "max": 1,
      "min": 0,
      "orientation": "horizontal",
      "style": "IPY_MODEL_de65f6fcfdc64f968e211b4915e5b9f3",
      "value": 1
     }
    },
    "858dbd3d88ee477c90c3051acac9dfd2": {
     "model_module": "@jupyter-widgets/controls",
     "model_name": "HTMLModel",
     "model_module_version": "1.5.0",
     "state": {
      "_dom_classes": [],
      "_model_module": "@jupyter-widgets/controls",
      "_model_module_version": "1.5.0",
      "_model_name": "HTMLModel",
      "_view_count": null,
      "_view_module": "@jupyter-widgets/controls",
      "_view_module_version": "1.5.0",
      "_view_name": "HTMLView",
      "description": "",
      "description_tooltip": null,
      "layout": "IPY_MODEL_d83df28a68684a19866fd370649b73a5",
      "placeholder": "​",
      "style": "IPY_MODEL_26551d60ffd54224a0e7081ceb0a0ebf",
      "value": " 2/? [00:00&lt;00:00,  6.24 tables/s]"
     }
    },
    "70d6e709e3e64d0dbcfcccbe8cbfa2f5": {
     "model_module": "@jupyter-widgets/base",
     "model_name": "LayoutModel",
     "model_module_version": "1.2.0",
     "state": {
      "_model_module": "@jupyter-widgets/base",
      "_model_module_version": "1.2.0",
      "_model_name": "LayoutModel",
      "_view_count": null,
      "_view_module": "@jupyter-widgets/base",
      "_view_module_version": "1.2.0",
      "_view_name": "LayoutView",
      "align_content": null,
      "align_items": null,
      "align_self": null,
      "border": null,
      "bottom": null,
      "display": null,
      "flex": null,
      "flex_flow": null,
      "grid_area": null,
      "grid_auto_columns": null,
      "grid_auto_flow": null,
      "grid_auto_rows": null,
      "grid_column": null,
      "grid_gap": null,
      "grid_row": null,
      "grid_template_areas": null,
      "grid_template_columns": null,
      "grid_template_rows": null,
      "height": null,
      "justify_content": null,
      "justify_items": null,
      "left": null,
      "margin": null,
      "max_height": null,
      "max_width": null,
      "min_height": null,
      "min_width": null,
      "object_fit": null,
      "object_position": null,
      "order": null,
      "overflow": null,
      "overflow_x": null,
      "overflow_y": null,
      "padding": null,
      "right": null,
      "top": null,
      "visibility": "hidden",
      "width": null
     }
    },
    "0104096444454b87aa55bcafbda6b3fd": {
     "model_module": "@jupyter-widgets/base",
     "model_name": "LayoutModel",
     "model_module_version": "1.2.0",
     "state": {
      "_model_module": "@jupyter-widgets/base",
      "_model_module_version": "1.2.0",
      "_model_name": "LayoutModel",
      "_view_count": null,
      "_view_module": "@jupyter-widgets/base",
      "_view_module_version": "1.2.0",
      "_view_name": "LayoutView",
      "align_content": null,
      "align_items": null,
      "align_self": null,
      "border": null,
      "bottom": null,
      "display": null,
      "flex": null,
      "flex_flow": null,
      "grid_area": null,
      "grid_auto_columns": null,
      "grid_auto_flow": null,
      "grid_auto_rows": null,
      "grid_column": null,
      "grid_gap": null,
      "grid_row": null,
      "grid_template_areas": null,
      "grid_template_columns": null,
      "grid_template_rows": null,
      "height": null,
      "justify_content": null,
      "justify_items": null,
      "left": null,
      "margin": null,
      "max_height": null,
      "max_width": null,
      "min_height": null,
      "min_width": null,
      "object_fit": null,
      "object_position": null,
      "order": null,
      "overflow": null,
      "overflow_x": null,
      "overflow_y": null,
      "padding": null,
      "right": null,
      "top": null,
      "visibility": null,
      "width": null
     }
    },
    "7cb3638599cc4b938dd96d72b9739c6d": {
     "model_module": "@jupyter-widgets/controls",
     "model_name": "DescriptionStyleModel",
     "model_module_version": "1.5.0",
     "state": {
      "_model_module": "@jupyter-widgets/controls",
      "_model_module_version": "1.5.0",
      "_model_name": "DescriptionStyleModel",
      "_view_count": null,
      "_view_module": "@jupyter-widgets/base",
      "_view_module_version": "1.2.0",
      "_view_name": "StyleView",
      "description_width": ""
     }
    },
    "579baf51f08247fe97c83fd2d593f6cb": {
     "model_module": "@jupyter-widgets/base",
     "model_name": "LayoutModel",
     "model_module_version": "1.2.0",
     "state": {
      "_model_module": "@jupyter-widgets/base",
      "_model_module_version": "1.2.0",
      "_model_name": "LayoutModel",
      "_view_count": null,
      "_view_module": "@jupyter-widgets/base",
      "_view_module_version": "1.2.0",
      "_view_name": "LayoutView",
      "align_content": null,
      "align_items": null,
      "align_self": null,
      "border": null,
      "bottom": null,
      "display": null,
      "flex": null,
      "flex_flow": null,
      "grid_area": null,
      "grid_auto_columns": null,
      "grid_auto_flow": null,
      "grid_auto_rows": null,
      "grid_column": null,
      "grid_gap": null,
      "grid_row": null,
      "grid_template_areas": null,
      "grid_template_columns": null,
      "grid_template_rows": null,
      "height": null,
      "justify_content": null,
      "justify_items": null,
      "left": null,
      "margin": null,
      "max_height": null,
      "max_width": null,
      "min_height": null,
      "min_width": null,
      "object_fit": null,
      "object_position": null,
      "order": null,
      "overflow": null,
      "overflow_x": null,
      "overflow_y": null,
      "padding": null,
      "right": null,
      "top": null,
      "visibility": null,
      "width": "20px"
     }
    },
    "de65f6fcfdc64f968e211b4915e5b9f3": {
     "model_module": "@jupyter-widgets/controls",
     "model_name": "ProgressStyleModel",
     "model_module_version": "1.5.0",
     "state": {
      "_model_module": "@jupyter-widgets/controls",
      "_model_module_version": "1.5.0",
      "_model_name": "ProgressStyleModel",
      "_view_count": null,
      "_view_module": "@jupyter-widgets/base",
      "_view_module_version": "1.2.0",
      "_view_name": "StyleView",
      "bar_color": null,
      "description_width": ""
     }
    },
    "d83df28a68684a19866fd370649b73a5": {
     "model_module": "@jupyter-widgets/base",
     "model_name": "LayoutModel",
     "model_module_version": "1.2.0",
     "state": {
      "_model_module": "@jupyter-widgets/base",
      "_model_module_version": "1.2.0",
      "_model_name": "LayoutModel",
      "_view_count": null,
      "_view_module": "@jupyter-widgets/base",
      "_view_module_version": "1.2.0",
      "_view_name": "LayoutView",
      "align_content": null,
      "align_items": null,
      "align_self": null,
      "border": null,
      "bottom": null,
      "display": null,
      "flex": null,
      "flex_flow": null,
      "grid_area": null,
      "grid_auto_columns": null,
      "grid_auto_flow": null,
      "grid_auto_rows": null,
      "grid_column": null,
      "grid_gap": null,
      "grid_row": null,
      "grid_template_areas": null,
      "grid_template_columns": null,
      "grid_template_rows": null,
      "height": null,
      "justify_content": null,
      "justify_items": null,
      "left": null,
      "margin": null,
      "max_height": null,
      "max_width": null,
      "min_height": null,
      "min_width": null,
      "object_fit": null,
      "object_position": null,
      "order": null,
      "overflow": null,
      "overflow_x": null,
      "overflow_y": null,
      "padding": null,
      "right": null,
      "top": null,
      "visibility": null,
      "width": null
     }
    },
    "26551d60ffd54224a0e7081ceb0a0ebf": {
     "model_module": "@jupyter-widgets/controls",
     "model_name": "DescriptionStyleModel",
     "model_module_version": "1.5.0",
     "state": {
      "_model_module": "@jupyter-widgets/controls",
      "_model_module_version": "1.5.0",
      "_model_name": "DescriptionStyleModel",
      "_view_count": null,
      "_view_module": "@jupyter-widgets/base",
      "_view_module_version": "1.2.0",
      "_view_name": "StyleView",
      "description_width": ""
     }
    },
    "43d2b01712b343ac9791567e57245b09": {
     "model_module": "@jupyter-widgets/controls",
     "model_name": "HBoxModel",
     "model_module_version": "1.5.0",
     "state": {
      "_dom_classes": [],
      "_model_module": "@jupyter-widgets/controls",
      "_model_module_version": "1.5.0",
      "_model_name": "HBoxModel",
      "_view_count": null,
      "_view_module": "@jupyter-widgets/controls",
      "_view_module_version": "1.5.0",
      "_view_name": "HBoxView",
      "box_style": "",
      "children": [
       "IPY_MODEL_ecd91757a48043d8a6ccac9e04482b10",
       "IPY_MODEL_8fc89a4c2d8f4d038c657d522ba560d9",
       "IPY_MODEL_c039a4634a6f4d3f82afc5bc60254be0"
      ],
      "layout": "IPY_MODEL_d1d8e92bcd2245f28a3aa874a379186e"
     }
    },
    "ecd91757a48043d8a6ccac9e04482b10": {
     "model_module": "@jupyter-widgets/controls",
     "model_name": "HTMLModel",
     "model_module_version": "1.5.0",
     "state": {
      "_dom_classes": [],
      "_model_module": "@jupyter-widgets/controls",
      "_model_module_version": "1.5.0",
      "_model_name": "HTMLModel",
      "_view_count": null,
      "_view_module": "@jupyter-widgets/controls",
      "_view_module_version": "1.5.0",
      "_view_name": "HTMLView",
      "description": "",
      "description_tooltip": null,
      "layout": "IPY_MODEL_2cad50eb42714e19b5f1fc7e9cca58fe",
      "placeholder": "​",
      "style": "IPY_MODEL_f34e6bee595348dc9815143ce9cf9892",
      "value": ""
     }
    },
    "8fc89a4c2d8f4d038c657d522ba560d9": {
     "model_module": "@jupyter-widgets/controls",
     "model_name": "FloatProgressModel",
     "model_module_version": "1.5.0",
     "state": {
      "_dom_classes": [],
      "_model_module": "@jupyter-widgets/controls",
      "_model_module_version": "1.5.0",
      "_model_name": "FloatProgressModel",
      "_view_count": null,
      "_view_module": "@jupyter-widgets/controls",
      "_view_module_version": "1.5.0",
      "_view_name": "ProgressView",
      "bar_style": "info",
      "description": "",
      "description_tooltip": null,
      "layout": "IPY_MODEL_050bd4858f1142ebbbb6ec9da94393b7",
      "max": 1,
      "min": 0,
      "orientation": "horizontal",
      "style": "IPY_MODEL_8db902e3bff24781bd685df0c297ddde",
      "value": 1
     }
    },
    "c039a4634a6f4d3f82afc5bc60254be0": {
     "model_module": "@jupyter-widgets/controls",
     "model_name": "HTMLModel",
     "model_module_version": "1.5.0",
     "state": {
      "_dom_classes": [],
      "_model_module": "@jupyter-widgets/controls",
      "_model_module_version": "1.5.0",
      "_model_name": "HTMLModel",
      "_view_count": null,
      "_view_module": "@jupyter-widgets/controls",
      "_view_module_version": "1.5.0",
      "_view_name": "HTMLView",
      "description": "",
      "description_tooltip": null,
      "layout": "IPY_MODEL_1bbbcbd57a2144d1bebf57bae5005f78",
      "placeholder": "​",
      "style": "IPY_MODEL_b5e0bf3ea994495eb579e074fafd59f7",
      "value": " 1/? [00:00&lt;00:00,  4.62 tables/s]"
     }
    },
    "d1d8e92bcd2245f28a3aa874a379186e": {
     "model_module": "@jupyter-widgets/base",
     "model_name": "LayoutModel",
     "model_module_version": "1.2.0",
     "state": {
      "_model_module": "@jupyter-widgets/base",
      "_model_module_version": "1.2.0",
      "_model_name": "LayoutModel",
      "_view_count": null,
      "_view_module": "@jupyter-widgets/base",
      "_view_module_version": "1.2.0",
      "_view_name": "LayoutView",
      "align_content": null,
      "align_items": null,
      "align_self": null,
      "border": null,
      "bottom": null,
      "display": null,
      "flex": null,
      "flex_flow": null,
      "grid_area": null,
      "grid_auto_columns": null,
      "grid_auto_flow": null,
      "grid_auto_rows": null,
      "grid_column": null,
      "grid_gap": null,
      "grid_row": null,
      "grid_template_areas": null,
      "grid_template_columns": null,
      "grid_template_rows": null,
      "height": null,
      "justify_content": null,
      "justify_items": null,
      "left": null,
      "margin": null,
      "max_height": null,
      "max_width": null,
      "min_height": null,
      "min_width": null,
      "object_fit": null,
      "object_position": null,
      "order": null,
      "overflow": null,
      "overflow_x": null,
      "overflow_y": null,
      "padding": null,
      "right": null,
      "top": null,
      "visibility": "hidden",
      "width": null
     }
    },
    "2cad50eb42714e19b5f1fc7e9cca58fe": {
     "model_module": "@jupyter-widgets/base",
     "model_name": "LayoutModel",
     "model_module_version": "1.2.0",
     "state": {
      "_model_module": "@jupyter-widgets/base",
      "_model_module_version": "1.2.0",
      "_model_name": "LayoutModel",
      "_view_count": null,
      "_view_module": "@jupyter-widgets/base",
      "_view_module_version": "1.2.0",
      "_view_name": "LayoutView",
      "align_content": null,
      "align_items": null,
      "align_self": null,
      "border": null,
      "bottom": null,
      "display": null,
      "flex": null,
      "flex_flow": null,
      "grid_area": null,
      "grid_auto_columns": null,
      "grid_auto_flow": null,
      "grid_auto_rows": null,
      "grid_column": null,
      "grid_gap": null,
      "grid_row": null,
      "grid_template_areas": null,
      "grid_template_columns": null,
      "grid_template_rows": null,
      "height": null,
      "justify_content": null,
      "justify_items": null,
      "left": null,
      "margin": null,
      "max_height": null,
      "max_width": null,
      "min_height": null,
      "min_width": null,
      "object_fit": null,
      "object_position": null,
      "order": null,
      "overflow": null,
      "overflow_x": null,
      "overflow_y": null,
      "padding": null,
      "right": null,
      "top": null,
      "visibility": null,
      "width": null
     }
    },
    "f34e6bee595348dc9815143ce9cf9892": {
     "model_module": "@jupyter-widgets/controls",
     "model_name": "DescriptionStyleModel",
     "model_module_version": "1.5.0",
     "state": {
      "_model_module": "@jupyter-widgets/controls",
      "_model_module_version": "1.5.0",
      "_model_name": "DescriptionStyleModel",
      "_view_count": null,
      "_view_module": "@jupyter-widgets/base",
      "_view_module_version": "1.2.0",
      "_view_name": "StyleView",
      "description_width": ""
     }
    },
    "050bd4858f1142ebbbb6ec9da94393b7": {
     "model_module": "@jupyter-widgets/base",
     "model_name": "LayoutModel",
     "model_module_version": "1.2.0",
     "state": {
      "_model_module": "@jupyter-widgets/base",
      "_model_module_version": "1.2.0",
      "_model_name": "LayoutModel",
      "_view_count": null,
      "_view_module": "@jupyter-widgets/base",
      "_view_module_version": "1.2.0",
      "_view_name": "LayoutView",
      "align_content": null,
      "align_items": null,
      "align_self": null,
      "border": null,
      "bottom": null,
      "display": null,
      "flex": null,
      "flex_flow": null,
      "grid_area": null,
      "grid_auto_columns": null,
      "grid_auto_flow": null,
      "grid_auto_rows": null,
      "grid_column": null,
      "grid_gap": null,
      "grid_row": null,
      "grid_template_areas": null,
      "grid_template_columns": null,
      "grid_template_rows": null,
      "height": null,
      "justify_content": null,
      "justify_items": null,
      "left": null,
      "margin": null,
      "max_height": null,
      "max_width": null,
      "min_height": null,
      "min_width": null,
      "object_fit": null,
      "object_position": null,
      "order": null,
      "overflow": null,
      "overflow_x": null,
      "overflow_y": null,
      "padding": null,
      "right": null,
      "top": null,
      "visibility": null,
      "width": "20px"
     }
    },
    "8db902e3bff24781bd685df0c297ddde": {
     "model_module": "@jupyter-widgets/controls",
     "model_name": "ProgressStyleModel",
     "model_module_version": "1.5.0",
     "state": {
      "_model_module": "@jupyter-widgets/controls",
      "_model_module_version": "1.5.0",
      "_model_name": "ProgressStyleModel",
      "_view_count": null,
      "_view_module": "@jupyter-widgets/base",
      "_view_module_version": "1.2.0",
      "_view_name": "StyleView",
      "bar_color": null,
      "description_width": ""
     }
    },
    "1bbbcbd57a2144d1bebf57bae5005f78": {
     "model_module": "@jupyter-widgets/base",
     "model_name": "LayoutModel",
     "model_module_version": "1.2.0",
     "state": {
      "_model_module": "@jupyter-widgets/base",
      "_model_module_version": "1.2.0",
      "_model_name": "LayoutModel",
      "_view_count": null,
      "_view_module": "@jupyter-widgets/base",
      "_view_module_version": "1.2.0",
      "_view_name": "LayoutView",
      "align_content": null,
      "align_items": null,
      "align_self": null,
      "border": null,
      "bottom": null,
      "display": null,
      "flex": null,
      "flex_flow": null,
      "grid_area": null,
      "grid_auto_columns": null,
      "grid_auto_flow": null,
      "grid_auto_rows": null,
      "grid_column": null,
      "grid_gap": null,
      "grid_row": null,
      "grid_template_areas": null,
      "grid_template_columns": null,
      "grid_template_rows": null,
      "height": null,
      "justify_content": null,
      "justify_items": null,
      "left": null,
      "margin": null,
      "max_height": null,
      "max_width": null,
      "min_height": null,
      "min_width": null,
      "object_fit": null,
      "object_position": null,
      "order": null,
      "overflow": null,
      "overflow_x": null,
      "overflow_y": null,
      "padding": null,
      "right": null,
      "top": null,
      "visibility": null,
      "width": null
     }
    },
    "b5e0bf3ea994495eb579e074fafd59f7": {
     "model_module": "@jupyter-widgets/controls",
     "model_name": "DescriptionStyleModel",
     "model_module_version": "1.5.0",
     "state": {
      "_model_module": "@jupyter-widgets/controls",
      "_model_module_version": "1.5.0",
      "_model_name": "DescriptionStyleModel",
      "_view_count": null,
      "_view_module": "@jupyter-widgets/base",
      "_view_module_version": "1.2.0",
      "_view_name": "StyleView",
      "description_width": ""
     }
    },
    "e25d4f90586c44a6b5b5e0c9c553f690": {
     "model_module": "@jupyter-widgets/controls",
     "model_name": "HBoxModel",
     "model_module_version": "1.5.0",
     "state": {
      "_dom_classes": [],
      "_model_module": "@jupyter-widgets/controls",
      "_model_module_version": "1.5.0",
      "_model_name": "HBoxModel",
      "_view_count": null,
      "_view_module": "@jupyter-widgets/controls",
      "_view_module_version": "1.5.0",
      "_view_name": "HBoxView",
      "box_style": "",
      "children": [
       "IPY_MODEL_0259e62c4f0a4d1bb571582bef5a0315",
       "IPY_MODEL_e3fd63e4d0114f9c807db09d9fbb0695",
       "IPY_MODEL_a8af694703124c9991a6ad324ecffb9a"
      ],
      "layout": "IPY_MODEL_bab2e2153a524f288e57abcf880c2724"
     }
    },
    "0259e62c4f0a4d1bb571582bef5a0315": {
     "model_module": "@jupyter-widgets/controls",
     "model_name": "HTMLModel",
     "model_module_version": "1.5.0",
     "state": {
      "_dom_classes": [],
      "_model_module": "@jupyter-widgets/controls",
      "_model_module_version": "1.5.0",
      "_model_name": "HTMLModel",
      "_view_count": null,
      "_view_module": "@jupyter-widgets/controls",
      "_view_module_version": "1.5.0",
      "_view_name": "HTMLView",
      "description": "",
      "description_tooltip": null,
      "layout": "IPY_MODEL_4bce9911684541359d1d63f3363bbb7c",
      "placeholder": "​",
      "style": "IPY_MODEL_b084acc0ebce405da43091c7f748f320",
      "value": "100%"
     }
    },
    "e3fd63e4d0114f9c807db09d9fbb0695": {
     "model_module": "@jupyter-widgets/controls",
     "model_name": "FloatProgressModel",
     "model_module_version": "1.5.0",
     "state": {
      "_dom_classes": [],
      "_model_module": "@jupyter-widgets/controls",
      "_model_module_version": "1.5.0",
      "_model_name": "FloatProgressModel",
      "_view_count": null,
      "_view_module": "@jupyter-widgets/controls",
      "_view_module_version": "1.5.0",
      "_view_name": "ProgressView",
      "bar_style": "success",
      "description": "",
      "description_tooltip": null,
      "layout": "IPY_MODEL_0151051a87af4cd892520dc6bc508e0d",
      "max": 2,
      "min": 0,
      "orientation": "horizontal",
      "style": "IPY_MODEL_5a573b39e698442a93d45ffe7f391f0c",
      "value": 2
     }
    },
    "a8af694703124c9991a6ad324ecffb9a": {
     "model_module": "@jupyter-widgets/controls",
     "model_name": "HTMLModel",
     "model_module_version": "1.5.0",
     "state": {
      "_dom_classes": [],
      "_model_module": "@jupyter-widgets/controls",
      "_model_module_version": "1.5.0",
      "_model_name": "HTMLModel",
      "_view_count": null,
      "_view_module": "@jupyter-widgets/controls",
      "_view_module_version": "1.5.0",
      "_view_name": "HTMLView",
      "description": "",
      "description_tooltip": null,
      "layout": "IPY_MODEL_d6bd19803c6d4e71b7f4eeb5b9a1e557",
      "placeholder": "​",
      "style": "IPY_MODEL_4343f4adf4184f1c9953421ccf97a123",
      "value": " 2/2 [00:00&lt;00:00,  9.19it/s]"
     }
    },
    "bab2e2153a524f288e57abcf880c2724": {
     "model_module": "@jupyter-widgets/base",
     "model_name": "LayoutModel",
     "model_module_version": "1.2.0",
     "state": {
      "_model_module": "@jupyter-widgets/base",
      "_model_module_version": "1.2.0",
      "_model_name": "LayoutModel",
      "_view_count": null,
      "_view_module": "@jupyter-widgets/base",
      "_view_module_version": "1.2.0",
      "_view_name": "LayoutView",
      "align_content": null,
      "align_items": null,
      "align_self": null,
      "border": null,
      "bottom": null,
      "display": null,
      "flex": null,
      "flex_flow": null,
      "grid_area": null,
      "grid_auto_columns": null,
      "grid_auto_flow": null,
      "grid_auto_rows": null,
      "grid_column": null,
      "grid_gap": null,
      "grid_row": null,
      "grid_template_areas": null,
      "grid_template_columns": null,
      "grid_template_rows": null,
      "height": null,
      "justify_content": null,
      "justify_items": null,
      "left": null,
      "margin": null,
      "max_height": null,
      "max_width": null,
      "min_height": null,
      "min_width": null,
      "object_fit": null,
      "object_position": null,
      "order": null,
      "overflow": null,
      "overflow_x": null,
      "overflow_y": null,
      "padding": null,
      "right": null,
      "top": null,
      "visibility": null,
      "width": null
     }
    },
    "4bce9911684541359d1d63f3363bbb7c": {
     "model_module": "@jupyter-widgets/base",
     "model_name": "LayoutModel",
     "model_module_version": "1.2.0",
     "state": {
      "_model_module": "@jupyter-widgets/base",
      "_model_module_version": "1.2.0",
      "_model_name": "LayoutModel",
      "_view_count": null,
      "_view_module": "@jupyter-widgets/base",
      "_view_module_version": "1.2.0",
      "_view_name": "LayoutView",
      "align_content": null,
      "align_items": null,
      "align_self": null,
      "border": null,
      "bottom": null,
      "display": null,
      "flex": null,
      "flex_flow": null,
      "grid_area": null,
      "grid_auto_columns": null,
      "grid_auto_flow": null,
      "grid_auto_rows": null,
      "grid_column": null,
      "grid_gap": null,
      "grid_row": null,
      "grid_template_areas": null,
      "grid_template_columns": null,
      "grid_template_rows": null,
      "height": null,
      "justify_content": null,
      "justify_items": null,
      "left": null,
      "margin": null,
      "max_height": null,
      "max_width": null,
      "min_height": null,
      "min_width": null,
      "object_fit": null,
      "object_position": null,
      "order": null,
      "overflow": null,
      "overflow_x": null,
      "overflow_y": null,
      "padding": null,
      "right": null,
      "top": null,
      "visibility": null,
      "width": null
     }
    },
    "b084acc0ebce405da43091c7f748f320": {
     "model_module": "@jupyter-widgets/controls",
     "model_name": "DescriptionStyleModel",
     "model_module_version": "1.5.0",
     "state": {
      "_model_module": "@jupyter-widgets/controls",
      "_model_module_version": "1.5.0",
      "_model_name": "DescriptionStyleModel",
      "_view_count": null,
      "_view_module": "@jupyter-widgets/base",
      "_view_module_version": "1.2.0",
      "_view_name": "StyleView",
      "description_width": ""
     }
    },
    "0151051a87af4cd892520dc6bc508e0d": {
     "model_module": "@jupyter-widgets/base",
     "model_name": "LayoutModel",
     "model_module_version": "1.2.0",
     "state": {
      "_model_module": "@jupyter-widgets/base",
      "_model_module_version": "1.2.0",
      "_model_name": "LayoutModel",
      "_view_count": null,
      "_view_module": "@jupyter-widgets/base",
      "_view_module_version": "1.2.0",
      "_view_name": "LayoutView",
      "align_content": null,
      "align_items": null,
      "align_self": null,
      "border": null,
      "bottom": null,
      "display": null,
      "flex": null,
      "flex_flow": null,
      "grid_area": null,
      "grid_auto_columns": null,
      "grid_auto_flow": null,
      "grid_auto_rows": null,
      "grid_column": null,
      "grid_gap": null,
      "grid_row": null,
      "grid_template_areas": null,
      "grid_template_columns": null,
      "grid_template_rows": null,
      "height": null,
      "justify_content": null,
      "justify_items": null,
      "left": null,
      "margin": null,
      "max_height": null,
      "max_width": null,
      "min_height": null,
      "min_width": null,
      "object_fit": null,
      "object_position": null,
      "order": null,
      "overflow": null,
      "overflow_x": null,
      "overflow_y": null,
      "padding": null,
      "right": null,
      "top": null,
      "visibility": null,
      "width": null
     }
    },
    "5a573b39e698442a93d45ffe7f391f0c": {
     "model_module": "@jupyter-widgets/controls",
     "model_name": "ProgressStyleModel",
     "model_module_version": "1.5.0",
     "state": {
      "_model_module": "@jupyter-widgets/controls",
      "_model_module_version": "1.5.0",
      "_model_name": "ProgressStyleModel",
      "_view_count": null,
      "_view_module": "@jupyter-widgets/base",
      "_view_module_version": "1.2.0",
      "_view_name": "StyleView",
      "bar_color": null,
      "description_width": ""
     }
    },
    "d6bd19803c6d4e71b7f4eeb5b9a1e557": {
     "model_module": "@jupyter-widgets/base",
     "model_name": "LayoutModel",
     "model_module_version": "1.2.0",
     "state": {
      "_model_module": "@jupyter-widgets/base",
      "_model_module_version": "1.2.0",
      "_model_name": "LayoutModel",
      "_view_count": null,
      "_view_module": "@jupyter-widgets/base",
      "_view_module_version": "1.2.0",
      "_view_name": "LayoutView",
      "align_content": null,
      "align_items": null,
      "align_self": null,
      "border": null,
      "bottom": null,
      "display": null,
      "flex": null,
      "flex_flow": null,
      "grid_area": null,
      "grid_auto_columns": null,
      "grid_auto_flow": null,
      "grid_auto_rows": null,
      "grid_column": null,
      "grid_gap": null,
      "grid_row": null,
      "grid_template_areas": null,
      "grid_template_columns": null,
      "grid_template_rows": null,
      "height": null,
      "justify_content": null,
      "justify_items": null,
      "left": null,
      "margin": null,
      "max_height": null,
      "max_width": null,
      "min_height": null,
      "min_width": null,
      "object_fit": null,
      "object_position": null,
      "order": null,
      "overflow": null,
      "overflow_x": null,
      "overflow_y": null,
      "padding": null,
      "right": null,
      "top": null,
      "visibility": null,
      "width": null
     }
    },
    "4343f4adf4184f1c9953421ccf97a123": {
     "model_module": "@jupyter-widgets/controls",
     "model_name": "DescriptionStyleModel",
     "model_module_version": "1.5.0",
     "state": {
      "_model_module": "@jupyter-widgets/controls",
      "_model_module_version": "1.5.0",
      "_model_name": "DescriptionStyleModel",
      "_view_count": null,
      "_view_module": "@jupyter-widgets/base",
      "_view_module_version": "1.2.0",
      "_view_name": "StyleView",
      "description_width": ""
     }
    }
   }
  }
 },
 "cells": [
  {
   "cell_type": "code",
   "execution_count": 1,
   "metadata": {
    "id": "pAJRKdv9QA4C",
    "executionInfo": {
     "status": "ok",
     "timestamp": 1666163743003,
     "user_tz": -120,
     "elapsed": 4,
     "user": {
      "displayName": "Pius von Däniken",
      "userId": "06131843237925992487"
     }
    }
   },
   "outputs": [],
   "source": [
    "import numpy as np\n",
    "import pandas as pd\n",
    "import sns as sns\n",
    "from matplotlib import pyplot as plt"
   ]
  },
  {
   "cell_type": "code",
   "source": [
    "RANDOM_SEED = 0x0"
   ],
   "metadata": {
    "id": "D1m4qcrpXdTt",
    "executionInfo": {
     "status": "ok",
     "timestamp": 1666163744900,
     "user_tz": -120,
     "elapsed": 14,
     "user": {
      "displayName": "Pius von Däniken",
      "userId": "06131843237925992487"
     }
    }
   },
   "execution_count": 2,
   "outputs": []
  },
  {
   "cell_type": "markdown",
   "source": [
    "# TASK 1. Metrics (4 Points): \n",
    "In this task you will compute some standard quality measures like Precision, Recall and F-Score for an artificial dataset."
   ],
   "metadata": {
    "id": "Ia9s_Q-KXf0T"
   }
  },
  {
   "cell_type": "markdown",
   "source": [
    "First, we generate some artificial data for a classification task and take a look at it."
   ],
   "metadata": {
    "id": "VV0Z3OdeXpha"
   }
  },
  {
   "cell_type": "code",
   "source": [
    "from sklearn.datasets import make_blobs\n",
    "from sklearn.model_selection import train_test_split\n",
    "from sklearn.linear_model import LogisticRegression\n",
    "\n",
    "X, y = make_blobs(n_samples=500, centers=4, random_state=RANDOM_SEED, cluster_std=2)\n",
    "X_train, X_test, y_train, y_test = train_test_split(X, y, test_size=0.2, random_state=RANDOM_SEED)"
   ],
   "metadata": {
    "id": "MZ_TBTXQfq_Z"
   },
   "execution_count": 3,
   "outputs": []
  },
  {
   "cell_type": "code",
   "source": [
    "for target_class in np.unique(y):\n",
    "  plt.scatter(X_train[y_train==target_class, 0], X_train[y_train==target_class, 1], alpha=0.75, label=target_class)\n",
    "plt.legend()\n",
    "plt.show()"
   ],
   "metadata": {
    "colab": {
     "base_uri": "https://localhost:8080/",
     "height": 265
    },
    "id": "51zAL1iNwwpb",
    "executionInfo": {
     "status": "ok",
     "timestamp": 1666125021228,
     "user_tz": -120,
     "elapsed": 601,
     "user": {
      "displayName": "Katsiaryna Mlynchyk",
      "userId": "03180504976276903023"
     }
    },
    "outputId": "2fd3baef-1df8-407a-8605-85b9f7cfd881"
   },
   "execution_count": 4,
   "outputs": [
    {
     "data": {
      "text/plain": "<Figure size 640x480 with 1 Axes>",
      "image/png": "[encoded data removed]"
     },
     "metadata": {},
     "output_type": "display_data"
    }
   ]
  },
  {
   "cell_type": "markdown",
   "source": [
    "As we can see, the classes are not easy distinguishable. That is not an easy task for the model. \n",
    "Nevertheless, let's apply a Logistic Regression Model and predict `y` values. "
   ],
   "metadata": {
    "id": "jyZqEqjVyDoO"
   }
  },
  {
   "cell_type": "code",
   "source": [
    "log_reg = LogisticRegression(random_state=RANDOM_SEED).fit(X_train, y_train)\n",
    "y_test_pred = log_reg.predict(X_test)"
   ],
   "metadata": {
    "id": "T0izCFFL0WaP"
   },
   "execution_count": 5,
   "outputs": []
  },
  {
   "cell_type": "markdown",
   "source": [
    "### Task 1a. Create and visualise the confusion matrix that describes the results:\n",
    "\n",
    "1. Create confusion matrix. Use can use `sklearn.metrics.confusion_matrix` functions.\n",
    "2. Display the confusion matrix of the Logistic Regression Model with `seaborn.heatmap`. Include the numbers of samples in each cell of the heatmap."
   ],
   "metadata": {
    "id": "79Mb3vlL3iyX"
   }
  },
  {
   "cell_type": "code",
   "source": [
    "from sklearn.metrics import confusion_matrix\n",
    "import seaborn as sns\n",
    "\n",
    "sns.set()\n",
    "confusion_matrix_test = confusion_matrix(y_test, y_test_pred)\n",
    "sns.heatmap(confusion_matrix_test, annot=True, fmt=\"d\")"
   ],
   "metadata": {
    "id": "nCZgTYP3fZe7",
    "colab": {
     "base_uri": "https://localhost:8080/"
    },
    "executionInfo": {
     "status": "ok",
     "timestamp": 1666121525136,
     "user_tz": -120,
     "elapsed": 29,
     "user": {
      "displayName": "Mark Cieliebak",
      "userId": "07750634937328157731"
     }
    },
    "outputId": "28ae4d00-9dcb-4840-d9ec-f7ac5674b43d"
   },
   "execution_count": 6,
   "outputs": [
    {
     "data": {
      "text/plain": "<AxesSubplot: >"
     },
     "execution_count": 6,
     "metadata": {},
     "output_type": "execute_result"
    },
    {
     "data": {
      "text/plain": "<Figure size 640x480 with 2 Axes>",
      "image/png": "[encoded data removed]"
     },
     "metadata": {},
     "output_type": "display_data"
    }
   ]
  },
  {
   "cell_type": "markdown",
   "source": [
    "### Task 1b. Create functions that calculate Precision, Recall and F1-Score. \n",
    "1. Implement your own functions for calculating Precision, Recall and F1-Score. Don't use any of the existing libraries for this.\n",
    "2. Apply them on the example above for the class `0`."
   ],
   "metadata": {
    "id": "Y2-ZAlHQQOG2"
   }
  },
  {
   "cell_type": "code",
   "source": [
    "# understand how to read a confusion matrix: https://www.projectpro.io/recipes/explain-multiclass-confusion-matrix\n",
    "\n",
    "def precision(class_of_interest, confusion_matrix_test):\n",
    "    tp = confusion_matrix_test[class_of_interest, class_of_interest]\n",
    "    fp = np.sum(confusion_matrix_test[:,class_of_interest]) - tp\n",
    "    score = tp / (fp + tp)\n",
    "    return score\n",
    "\n",
    "def recall(class_of_interest, confusion_matrix_test):\n",
    "    tp = confusion_matrix_test[class_of_interest, class_of_interest]\n",
    "    fn = np.sum(confusion_matrix_test[class_of_interest, :]) - tp\n",
    "    score = tp / (tp + fn)\n",
    "    return score\n",
    "\n",
    "def f1_score(precision_value, recall_value):\n",
    "    score = 2*(precision_value*recall_value)/(precision_value+recall_value)\n",
    "    return score"
   ],
   "metadata": {
    "id": "k9X3Q8Je3B3B"
   },
   "execution_count": 7,
   "outputs": []
  },
  {
   "cell_type": "code",
   "source": [
    "precision_value = precision(0, confusion_matrix_test)\n",
    "recall_value = recall(0, confusion_matrix_test)\n",
    "f1_score_test = f1_score(precision_value, recall_value)\n",
    "\n",
    "print(f\"Precision: {precision_value}\")\n",
    "print(f\"Recall: {recall_value}\")\n",
    "print(f\"F1-Score: {f1_score_test}\")"
   ],
   "metadata": {
    "id": "ghV4-8vB7c6b",
    "colab": {
     "base_uri": "https://localhost:8080/",
     "height": 242
    },
    "executionInfo": {
     "status": "error",
     "timestamp": 1666121525901,
     "user_tz": -120,
     "elapsed": 774,
     "user": {
      "displayName": "Mark Cieliebak",
      "userId": "07750634937328157731"
     }
    },
    "outputId": "61548c2e-5a18-45b6-db80-60af71d0c3a2"
   },
   "execution_count": 8,
   "outputs": [
    {
     "name": "stdout",
     "output_type": "stream",
     "text": [
      "Precision: 0.6363636363636364\n",
      "Recall: 0.4827586206896552\n",
      "F1-Score: 0.5490196078431373\n"
     ]
    }
   ]
  },
  {
   "cell_type": "markdown",
   "source": [
    "### Task 1c. Check your results \n",
    "Use the function `classification_report` of `sklearn.metrics` to compare their results to your own implementation"
   ],
   "metadata": {
    "id": "a34pKmkc1COk"
   }
  },
  {
   "cell_type": "code",
   "source": [
    "from sklearn.metrics import classification_report\n",
    "\n",
    "print(classification_report(y_test, y_test_pred))"
   ],
   "metadata": {
    "id": "ZraefM_U8wdN"
   },
   "execution_count": 9,
   "outputs": [
    {
     "name": "stdout",
     "output_type": "stream",
     "text": [
      "              precision    recall  f1-score   support\n",
      "\n",
      "           0       0.64      0.48      0.55        29\n",
      "           1       0.64      0.72      0.68        25\n",
      "           2       0.70      0.72      0.71        29\n",
      "           3       0.80      0.94      0.86        17\n",
      "\n",
      "    accuracy                           0.69       100\n",
      "   macro avg       0.69      0.72      0.70       100\n",
      "weighted avg       0.68      0.69      0.68       100\n",
      "\n"
     ]
    }
   ]
  },
  {
   "cell_type": "markdown",
   "source": [
    "## 📢 **HAND-IN** 📢: Post following results you got in this task:\n",
    "\n",
    "1. Confusion matrix from task 1a\n",
    "2. Precision, Recall and F1-Score from task 1b\n",
    "\n"
   ],
   "metadata": {
    "id": "UiCZPpG1-X1n"
   }
  },
  {
   "cell_type": "markdown",
   "source": [
    "# TASK 2. Cross Validation (1 point)"
   ],
   "metadata": {
    "id": "hz4yA62HAyB6"
   }
  },
  {
   "cell_type": "code",
   "execution_count": 10,
   "metadata": {
    "id": "prescribed-lawyer",
    "executionInfo": {
     "status": "ok",
     "timestamp": 1666164175445,
     "user_tz": -120,
     "elapsed": 260,
     "user": {
      "displayName": "Pius von Däniken",
      "userId": "06131843237925992487"
     }
    }
   },
   "outputs": [],
   "source": [
    "import pandas as pd\n",
    "import numpy as np\n",
    "import matplotlib.pyplot as plt\n",
    "from random import randrange\n",
    "import seaborn as sns\n",
    "sns.set() # just the theme"
   ]
  },
  {
   "cell_type": "markdown",
   "source": [
    "In this task, we familiarize ourselves with how different types of Cross Validation actually partition the data. \n",
    "\n",
    "Run the following code and inspect the graphs that show how the data was split for different runs. Full code source can be found [here](https://https://scikit-learn.org/stable/auto_examples/model_selection/plot_cv_indices.html)"
   ],
   "metadata": {
    "id": "Yd1qwbP1QZdm"
   }
  },
  {
   "cell_type": "markdown",
   "source": [
    "Note: the bar \"class\" on the graphs shows the samples of 3 classes. First, all samples of class 0 are listed (in light blue color), then all samples of class 1 are shown (yellow) and, lastly, all samples of class 2 are following (brown)."
   ],
   "metadata": {
    "id": "-HWH1kVh36sv"
   }
  },
  {
   "cell_type": "code",
   "source": [
    "from sklearn.model_selection import (\n",
    "    KFold,\n",
    "    ShuffleSplit,\n",
    "    StratifiedKFold,\n",
    "    StratifiedShuffleSplit\n",
    ")\n",
    "from matplotlib.patches import Patch\n",
    "\n",
    "# first, generate dummy data\n",
    "n_points = 100\n",
    "rng = np.random.RandomState(RANDOM_SEED)\n",
    "X = rng.randn(100, 10)\n",
    "\n",
    "# we have 10% of the data belonging to class 0, 30% - to class 1 and 60% to class 2\n",
    "# first come all the data samples that belong to class 0, following by the samples of class 1 and then of class 2\n",
    "percentiles_classes = [0.1, 0.3, 0.6]\n",
    "y = np.hstack([[ind] * int(100 * perc) for ind, perc in enumerate(percentiles_classes)]) \n",
    "\n",
    "# color settings for graphs\n",
    "cmap_data = plt.cm.Paired\n",
    "cmap_cv = plt.cm.coolwarm\n",
    "\n",
    "n_splits = 5"
   ],
   "metadata": {
    "id": "-KYeoYGskek3",
    "executionInfo": {
     "status": "ok",
     "timestamp": 1666164178434,
     "user_tz": -120,
     "elapsed": 249,
     "user": {
      "displayName": "Pius von Däniken",
      "userId": "06131843237925992487"
     }
    }
   },
   "execution_count": 11,
   "outputs": []
  },
  {
   "cell_type": "code",
   "source": [
    "cvs = [KFold, ShuffleSplit, StratifiedKFold, StratifiedShuffleSplit]\n",
    "\n",
    "def plot_cv_indices(cv, X, y, ax, n_splits, lw=10):\n",
    "    \"\"\"Create a sample plot for indices of a cross-validation object.\"\"\"\n",
    "\n",
    "    # Generate the training/testing visualizations for each CV split\n",
    "    for ii, (tr, tt) in enumerate(cv.split(X=X, y=y)):\n",
    "      \n",
    "        # Fill in indices with the training/test groups\n",
    "        indices = np.array([np.nan] * len(X))\n",
    "        indices[tt] = 1.0\n",
    "        indices[tr] = 0\n",
    "\n",
    "        # Visualize the results\n",
    "        ax.scatter(\n",
    "            range(len(indices)),\n",
    "            [ii + 0.5] * len(indices),\n",
    "            c=indices,\n",
    "            marker=\"_\",\n",
    "            lw=lw,\n",
    "            cmap=cmap_cv,\n",
    "            vmin=-0.2,\n",
    "            vmax=1.2\n",
    "        )\n",
    "\n",
    "    # Plot the data classes and groups at the end\n",
    "    ax.scatter(\n",
    "        range(len(X)), [ii + 1.5] * len(X), c=y, marker=\"_\", lw=lw, cmap=cmap_data\n",
    "    )\n",
    "    # Formatting\n",
    "    yticklabels = list(range(n_splits)) + [\"class\"]\n",
    "    ax.set(\n",
    "        yticks=np.arange(n_splits + 1) + 0.5,\n",
    "        yticklabels=yticklabels,\n",
    "        xlabel=\"Sample index\",\n",
    "        ylabel=\"CV iteration\",\n",
    "        ylim=[n_splits + 1.2, -0.2],\n",
    "        xlim=[0, 100],\n",
    "    )\n",
    "    ax.set_title(\"{}\".format(type(cv).__name__), fontsize=15)\n",
    "    return ax\n",
    "\n",
    "for cv in cvs:\n",
    "    fig, ax = plt.subplots(figsize=(6, 3))\n",
    "    plot_cv_indices(cv(n_splits), X, y, ax, n_splits)\n",
    "\n"
   ],
   "metadata": {
    "id": "ZDyXvwEfn2gU",
    "colab": {
     "base_uri": "https://localhost:8080/",
     "height": 941
    },
    "executionInfo": {
     "status": "ok",
     "timestamp": 1666164185523,
     "user_tz": -120,
     "elapsed": 1415,
     "user": {
      "displayName": "Pius von Däniken",
      "userId": "06131843237925992487"
     }
    },
    "outputId": "89130ecf-6503-403f-9002-4dcfe822827c"
   },
   "execution_count": 12,
   "outputs": [
    {
     "data": {
      "text/plain": "<Figure size 600x300 with 1 Axes>",
      "image/png": "[encoded data removed]"
     },
     "metadata": {},
     "output_type": "display_data"
    },
    {
     "data": {
      "text/plain": "<Figure size 600x300 with 1 Axes>",
      "image/png": "[encoded data removed]"
     },
     "metadata": {},
     "output_type": "display_data"
    },
    {
     "data": {
      "text/plain": "<Figure size 600x300 with 1 Axes>",
      "image/png": "[encoded data removed]"
     },
     "metadata": {},
     "output_type": "display_data"
    },
    {
     "data": {
      "text/plain": "<Figure size 600x300 with 1 Axes>",
      "image/png": "[encoded data removed]"
     },
     "metadata": {},
     "output_type": "display_data"
    }
   ]
  },
  {
   "cell_type": "markdown",
   "source": [
    "## 📢 **HAND-IN** 📢: Answer following question in Moodle:\n",
    "\n",
    "Try to explain in your own words (1-2 lines) how ShuffleSplit splits the data. \n",
    "\n",
    "In each iteration (amount can be defined by the user) the order of the data gets randomly shuffled.\n",
    "After that shuffling the data gets split into training and test data set according to the hyperparameter."
   ],
   "metadata": {
    "id": "y3w3Hop_46Af"
   }
  },
  {
   "cell_type": "markdown",
   "source": [
    "# 3. Cross Validation and Imbalanced Data (5 points)\n",
    "In this task we are working with the **Default of Credit Card Clients Dataset**. This dataset contains information on default payments, demographic factors, credit data, history of payment, and bill statements of credit card clients in Taiwan from April 2005 to September 2005. More info about the dataset can be found [here](https://www.kaggle.com/datasets/uciml/default-of-credit-card-clients-dataset).\n",
    "\n",
    "The target variable is:\n",
    "\n",
    "- `default.payment.next.month`: Default payment (1=yes, 0=no)\n",
    "\n",
    "Default payment means a missed payment. So, the target variable shows whether a person will miss his or her Credit Card Payment (=1) or will pay it back (=0).\n",
    "\n",
    "The predictor features are:\n",
    "*   ID: ID of each client\n",
    "*   LIMIT_BAL: Amount of given credit in NT dollars (includes individual and family/supplementary credit\n",
    "*   SEX:0, SEX:1: Binary variables for gender (0=male, 1=female)\n",
    "*   EDUCATION:0-EDUCATION:5: Binary variables for education (0=graduate school, 1=university, 2=high school, 3=others, 4=unknown, 5=unknown)\n",
    "*   MARRIAGE:0-MARRIAGE:2: Binary variables for Marital status (0=married, 1=single, 2=others)\n",
    "*   AGE: Age in years\n",
    "*   PAY_0: Repayment status in September, 2005 (-1=pay duly, 1=payment delay for one month, 2=payment delay for two months, … 8=payment delay for eight months, 9=payment delay for nine months and above)\n",
    "*   PAY_2: Repayment status in August, 2005 (scale same as above)\n",
    "*   PAY_3: Repayment status in July, 2005 (scale same as above)\n",
    "*   PAY_4: Repayment status in June, 2005 (scale same as above)\n",
    "*   PAY_5: Repayment status in May, 2005 (scale same as above)\n",
    "*   PAY_6: Repayment status in April, 2005 (scale same as above)\n",
    "*   BILL_AMT1: Amount of bill statement in September, 2005 (NT dollar)\n",
    "*   BILL_AMT2: Amount of bill statement in August, 2005 (NT dollar)\n",
    "*   BILL_AMT3: Amount of bill statement in July, 2005 (NT dollar)\n",
    "*   BILL_AMT4: Amount of bill statement in June, 2005 (NT dollar)\n",
    "*   BILL_AMT5: Amount of bill statement in May, 2005 (NT dollar)\n",
    "*   BILL_AMT6: Amount of bill statement in April, 2005 (NT dollar)\n",
    "*   PAY_AMT1: Amount of previous payment in September, 2005 (NT dollar)\n",
    "*   PAY_AMT2: Amount of previous payment in August, 2005 (NT dollar)\n",
    "*   PAY_AMT3: Amount of previous payment in July, 2005 (NT dollar)\n",
    "*   PAY_AMT4: Amount of previous payment in June, 2005 (NT dollar)\n",
    "*   PAY_AMT5: Amount of previous payment in May, 2005 (NT dollar)\n",
    "*   PAY_AMT6: Amount of previous payment in April, 2005 (NT dollar)\n"
   ],
   "metadata": {
    "id": "-OM0Huw-Cd2D"
   }
  },
  {
   "cell_type": "code",
   "source": [
    "# install datasets\n",
    "!pip install datasets"
   ],
   "metadata": {
    "id": "WS9Ep-RnXTKb",
    "colab": {
     "base_uri": "https://localhost:8080/"
    },
    "executionInfo": {
     "status": "ok",
     "timestamp": 1666121704216,
     "user_tz": -120,
     "elapsed": 8787,
     "user": {
      "displayName": "Mark Cieliebak",
      "userId": "07750634937328157731"
     }
    },
    "outputId": "02820d1b-471b-41ad-c2f5-e2c5afe1c8ea"
   },
   "execution_count": 13,
   "outputs": [
    {
     "name": "stdout",
     "output_type": "stream",
     "text": [
      "Requirement already satisfied: datasets in c:\\users\\marcv\\appdata\\local\\programs\\python\\python39\\lib\\site-packages (2.6.1)\n",
      "Requirement already satisfied: requests>=2.19.0 in c:\\users\\marcv\\appdata\\local\\programs\\python\\python39\\lib\\site-packages (from datasets) (2.28.1)\n",
      "Requirement already satisfied: huggingface-hub<1.0.0,>=0.2.0 in c:\\users\\marcv\\appdata\\local\\programs\\python\\python39\\lib\\site-packages (from datasets) (0.10.1)\n",
      "Requirement already satisfied: tqdm>=4.62.1 in c:\\users\\marcv\\appdata\\local\\programs\\python\\python39\\lib\\site-packages (from datasets) (4.64.1)\n",
      "Requirement already satisfied: packaging in c:\\users\\marcv\\appdata\\local\\programs\\python\\python39\\lib\\site-packages (from datasets) (21.3)\n",
      "Requirement already satisfied: dill<0.3.6 in c:\\users\\marcv\\appdata\\local\\programs\\python\\python39\\lib\\site-packages (from datasets) (0.3.5.1)\n",
      "Requirement already satisfied: numpy>=1.17 in c:\\users\\marcv\\appdata\\local\\programs\\python\\python39\\lib\\site-packages (from datasets) (1.23.3)\n",
      "Requirement already satisfied: pyarrow>=6.0.0 in c:\\users\\marcv\\appdata\\local\\programs\\python\\python39\\lib\\site-packages (from datasets) (9.0.0)\n",
      "Requirement already satisfied: xxhash in c:\\users\\marcv\\appdata\\local\\programs\\python\\python39\\lib\\site-packages (from datasets) (3.1.0)\n",
      "Requirement already satisfied: pyyaml>=5.1 in c:\\users\\marcv\\appdata\\local\\programs\\python\\python39\\lib\\site-packages (from datasets) (6.0)\n",
      "Requirement already satisfied: fsspec[http]>=2021.11.1 in c:\\users\\marcv\\appdata\\local\\programs\\python\\python39\\lib\\site-packages (from datasets) (2022.10.0)\n",
      "Requirement already satisfied: pandas in c:\\users\\marcv\\appdata\\local\\programs\\python\\python39\\lib\\site-packages (from datasets) (1.5.0)\n",
      "Requirement already satisfied: aiohttp in c:\\users\\marcv\\appdata\\local\\programs\\python\\python39\\lib\\site-packages (from datasets) (3.8.3)\n",
      "Requirement already satisfied: responses<0.19 in c:\\users\\marcv\\appdata\\local\\programs\\python\\python39\\lib\\site-packages (from datasets) (0.18.0)\n",
      "Requirement already satisfied: multiprocess in c:\\users\\marcv\\appdata\\local\\programs\\python\\python39\\lib\\site-packages (from datasets) (0.70.13)\n",
      "Requirement already satisfied: frozenlist>=1.1.1 in c:\\users\\marcv\\appdata\\local\\programs\\python\\python39\\lib\\site-packages (from aiohttp->datasets) (1.3.1)\n",
      "Requirement already satisfied: async-timeout<5.0,>=4.0.0a3 in c:\\users\\marcv\\appdata\\local\\programs\\python\\python39\\lib\\site-packages (from aiohttp->datasets) (4.0.2)\n",
      "Requirement already satisfied: aiosignal>=1.1.2 in c:\\users\\marcv\\appdata\\local\\programs\\python\\python39\\lib\\site-packages (from aiohttp->datasets) (1.2.0)\n",
      "Requirement already satisfied: attrs>=17.3.0 in c:\\users\\marcv\\appdata\\local\\programs\\python\\python39\\lib\\site-packages (from aiohttp->datasets) (22.1.0)\n",
      "Requirement already satisfied: multidict<7.0,>=4.5 in c:\\users\\marcv\\appdata\\local\\programs\\python\\python39\\lib\\site-packages (from aiohttp->datasets) (6.0.2)\n",
      "Requirement already satisfied: charset-normalizer<3.0,>=2.0 in c:\\users\\marcv\\appdata\\local\\programs\\python\\python39\\lib\\site-packages (from aiohttp->datasets) (2.1.1)\n",
      "Requirement already satisfied: yarl<2.0,>=1.0 in c:\\users\\marcv\\appdata\\local\\programs\\python\\python39\\lib\\site-packages (from aiohttp->datasets) (1.8.1)\n",
      "Requirement already satisfied: typing-extensions>=3.7.4.3 in c:\\users\\marcv\\appdata\\local\\programs\\python\\python39\\lib\\site-packages (from huggingface-hub<1.0.0,>=0.2.0->datasets) (4.4.0)\n",
      "Requirement already satisfied: filelock in c:\\users\\marcv\\appdata\\local\\programs\\python\\python39\\lib\\site-packages (from huggingface-hub<1.0.0,>=0.2.0->datasets) (3.8.0)\n",
      "Requirement already satisfied: pyparsing!=3.0.5,>=2.0.2 in c:\\users\\marcv\\appdata\\local\\programs\\python\\python39\\lib\\site-packages (from packaging->datasets) (3.0.9)\n",
      "Requirement already satisfied: certifi>=2017.4.17 in c:\\users\\marcv\\appdata\\local\\programs\\python\\python39\\lib\\site-packages (from requests>=2.19.0->datasets) (2022.9.24)\n",
      "Requirement already satisfied: urllib3<1.27,>=1.21.1 in c:\\users\\marcv\\appdata\\local\\programs\\python\\python39\\lib\\site-packages (from requests>=2.19.0->datasets) (1.26.12)\n",
      "Requirement already satisfied: idna<4,>=2.5 in c:\\users\\marcv\\appdata\\local\\programs\\python\\python39\\lib\\site-packages (from requests>=2.19.0->datasets) (3.4)\n",
      "Requirement already satisfied: colorama in c:\\users\\marcv\\appdata\\local\\programs\\python\\python39\\lib\\site-packages (from tqdm>=4.62.1->datasets) (0.4.5)\n",
      "Requirement already satisfied: python-dateutil>=2.8.1 in c:\\users\\marcv\\appdata\\local\\programs\\python\\python39\\lib\\site-packages (from pandas->datasets) (2.8.2)\n",
      "Requirement already satisfied: pytz>=2020.1 in c:\\users\\marcv\\appdata\\local\\programs\\python\\python39\\lib\\site-packages (from pandas->datasets) (2022.2.1)\n",
      "Requirement already satisfied: six>=1.5 in c:\\users\\marcv\\appdata\\local\\programs\\python\\python39\\lib\\site-packages (from python-dateutil>=2.8.1->pandas->datasets) (1.16.0)\n"
     ]
    },
    {
     "name": "stderr",
     "output_type": "stream",
     "text": [
      "WARNING: You are using pip version 21.2.3; however, version 22.3 is available.\n",
      "You should consider upgrading via the 'C:\\Users\\marcv\\AppData\\Local\\Programs\\Python\\Python39\\python.exe -m pip install --upgrade pip' command.\n"
     ]
    }
   ]
  },
  {
   "cell_type": "markdown",
   "source": [
    "First, we load and inspect the data."
   ],
   "metadata": {
    "id": "zOXZGVmC-tMj"
   }
  },
  {
   "cell_type": "code",
   "source": [
    "from datasets import load_dataset\n",
    "\n",
    "dataset = load_dataset(\"imodels/credit-card\")\n",
    "df_train = pd.DataFrame(dataset['train'])\n",
    "X_train = df_train.drop(columns=['default.payment.next.month'])\n",
    "y_train = df_train['default.payment.next.month'].values\n",
    "print(X_train.head())\n",
    "\n",
    "df_test = pd.DataFrame(dataset['test'])\n",
    "X_test = df_test.drop(columns=['default.payment.next.month'])\n",
    "y_test = df_test['default.payment.next.month'].values"
   ],
   "metadata": {
    "id": "XUC4q-M6W32q",
    "colab": {
     "base_uri": "https://localhost:8080/",
     "height": 681,
     "referenced_widgets": [
      "4ac700a2071645be8e56748f9cc0fffc",
      "f89c31f3202f4af68ed346fe96563e54",
      "eff30874209c4d078b9ca05b3c8be695",
      "5076d27e08c643b7a3ac76b62588ad61",
      "28df20343e144100ae901d5af8a77c81",
      "f8d52b26c5994b9c95c063e5928f17e7",
      "6dbb6d85e2db4cd78e77b3090a4767bb",
      "07ff0c3e3e0a4626b42ba521d0de12d0",
      "6aa4fb5b29324e53af7a016332a7becc",
      "32b50529e09d44f28a3c1ba3c37bc4a9",
      "a68150b869f548759d7ff96f240088db",
      "dd136b51c01c4548a811cdf5acf2ceed",
      "a8d0886ed8374e0098b461870bc5532a",
      "2d3a3313b2ec43e8aa11f33aef6d260f",
      "eb295d8457a0480480dd805eca7ab7f7",
      "92511d8367cf485bb875affa1f4a1267",
      "e28fd39153434843876353bfbdeea1ec",
      "59f88044f91c49738fcfcf31fbfde902",
      "7e7cc34238634ccd88a29210dd6ada37",
      "ec5f5061d96b41408632d10d8bf03a03",
      "f296717a73c54fd5ae666a8e0f1f1a88",
      "79734f5cc55d4d6b86816493a16c3345",
      "e3b32e389d824d69aa409a2adf5b0137",
      "f2020bd06d3f408d97c5641600f4bc0b",
      "080458a3957646be80fe339c64a8e7c7",
      "95136e9650a1401fac52e0721c600a6a",
      "a36a745e0c9c4fe68be047a07a43ac20",
      "3c44ce211fa347bb872c92a68f30bd85",
      "2331085366594065aff254933ed69628",
      "11f4a0dd7a6a430eabb15ecf419b263c",
      "1875e92a774c49598c54d01f8c96a7b7",
      "c37635ef02d44995811826b8400c7f86",
      "396321ea97b545a797b900cbbb3e3719",
      "95e948b9c2224c68805951d05d7090c3",
      "7238f312697a4839a3e2f248bfdb5d0a",
      "5d8473c8d18649e599dffa8c26064500",
      "6bf6a6aafbb0409b8e40291dd8ea22b1",
      "b61004d67dd746ecaf176ccb5a1a2944",
      "1f61dbb187c94ca6b136a91e17ccfb76",
      "77f5418f65954de49e1142accc3c5538",
      "46f80815d1604a41a08fc8a5673e0ee2",
      "9ac1f3e7a08a4c6fb49683a8e061f470",
      "c3feba2e58054da9a2fbf224b4529093",
      "64710d0957d54da29762cb6edda202c2",
      "0ee4fcf3d4d24be08ecf1d85c7f7811a",
      "e33d026ce7744a7087e3267c2c2b5c55",
      "9d492e501e5742b992ad8f00706ed8f4",
      "181539f3db2b4415a150834c60d1bc0f",
      "c055ef52681f48998c37989cf8ef1198",
      "caf343a5c7f04848b96568295633e741",
      "738d5917ff9c4e918bafde68dccef7ab",
      "f4260d41467541408d81719c43c02214",
      "8fe2473f689b4e98bb6cc6ec20f64a57",
      "19cec8b2bbf2418a83cd5d6c56bff549",
      "5658abc1135e4336b0d944675335af7c",
      "d6eefc6af1224bf383f8907ab0ebce79",
      "9193dfa530f64d2d9e4f91825f26f7f3",
      "d3b0bae931da4bc5aa242943ee0974da",
      "858dbd3d88ee477c90c3051acac9dfd2",
      "70d6e709e3e64d0dbcfcccbe8cbfa2f5",
      "0104096444454b87aa55bcafbda6b3fd",
      "7cb3638599cc4b938dd96d72b9739c6d",
      "579baf51f08247fe97c83fd2d593f6cb",
      "de65f6fcfdc64f968e211b4915e5b9f3",
      "d83df28a68684a19866fd370649b73a5",
      "26551d60ffd54224a0e7081ceb0a0ebf",
      "43d2b01712b343ac9791567e57245b09",
      "ecd91757a48043d8a6ccac9e04482b10",
      "8fc89a4c2d8f4d038c657d522ba560d9",
      "c039a4634a6f4d3f82afc5bc60254be0",
      "d1d8e92bcd2245f28a3aa874a379186e",
      "2cad50eb42714e19b5f1fc7e9cca58fe",
      "f34e6bee595348dc9815143ce9cf9892",
      "050bd4858f1142ebbbb6ec9da94393b7",
      "8db902e3bff24781bd685df0c297ddde",
      "1bbbcbd57a2144d1bebf57bae5005f78",
      "b5e0bf3ea994495eb579e074fafd59f7",
      "e25d4f90586c44a6b5b5e0c9c553f690",
      "0259e62c4f0a4d1bb571582bef5a0315",
      "e3fd63e4d0114f9c807db09d9fbb0695",
      "a8af694703124c9991a6ad324ecffb9a",
      "bab2e2153a524f288e57abcf880c2724",
      "4bce9911684541359d1d63f3363bbb7c",
      "b084acc0ebce405da43091c7f748f320",
      "0151051a87af4cd892520dc6bc508e0d",
      "5a573b39e698442a93d45ffe7f391f0c",
      "d6bd19803c6d4e71b7f4eeb5b9a1e557",
      "4343f4adf4184f1c9953421ccf97a123"
     ]
    },
    "executionInfo": {
     "status": "ok",
     "timestamp": 1666121729616,
     "user_tz": -120,
     "elapsed": 20574,
     "user": {
      "displayName": "Mark Cieliebak",
      "userId": "07750634937328157731"
     }
    },
    "outputId": "6b507a28-8dd9-4dff-bfda-7400ba0755b6"
   },
   "execution_count": 14,
   "outputs": [
    {
     "name": "stderr",
     "output_type": "stream",
     "text": [
      "Using custom data configuration imodels--credit-card-fc59432e6db31dca\n",
      "Found cached dataset csv (C:/Users/marcv/.cache/huggingface/datasets/imodels___csv/imodels--credit-card-fc59432e6db31dca/0.0.0/6b34fb8fcf56f7c8ba51dc895bfa2bfbe43546f190a60fcf74bb5e8afdcc2317)\n"
     ]
    },
    {
     "data": {
      "text/plain": "  0%|          | 0/2 [00:00<?, ?it/s]",
      "application/vnd.jupyter.widget-view+json": {
       "version_major": 2,
       "version_minor": 0,
       "model_id": "07762c8c205545e4ab0f600ee8f26fda"
      }
     },
     "metadata": {},
     "output_type": "display_data"
    },
    {
     "name": "stdout",
     "output_type": "stream",
     "text": [
      "   limit_bal   age  pay_0  pay_2  pay_3  pay_4  pay_5  pay_6  bill_amt1  \\\n",
      "0    80000.0  24.0    0.0    0.0    0.0    0.0    0.0    0.0    75125.0   \n",
      "1    30000.0  28.0    0.0    0.0    0.0    0.0    0.0    0.0    29242.0   \n",
      "2   180000.0  44.0    0.0    0.0   -1.0   -1.0   -1.0   -1.0    20916.0   \n",
      "3    60000.0  25.0    0.0    0.0    0.0    0.0    0.0    0.0    58839.0   \n",
      "4   130000.0  25.0    0.0    0.0    0.0    0.0    0.0    0.0   111587.0   \n",
      "\n",
      "   bill_amt2  ...  education:1  education:2  education:3  education:4  \\\n",
      "0    77353.0  ...          0.0          1.0          0.0          0.0   \n",
      "1    29507.0  ...          0.0          1.0          0.0          0.0   \n",
      "2        0.0  ...          0.0          0.0          0.0          0.0   \n",
      "3    53235.0  ...          1.0          0.0          0.0          0.0   \n",
      "4   112348.0  ...          0.0          1.0          0.0          0.0   \n",
      "\n",
      "   education:5  education:6  marriage:0  marriage:1  marriage:2  marriage:3  \n",
      "0          0.0          0.0         0.0         0.0         1.0         0.0  \n",
      "1          0.0          0.0         0.0         0.0         1.0         0.0  \n",
      "2          1.0          0.0         0.0         1.0         0.0         0.0  \n",
      "3          0.0          0.0         0.0         0.0         1.0         0.0  \n",
      "4          0.0          0.0         0.0         0.0         1.0         0.0  \n",
      "\n",
      "[5 rows x 33 columns]\n"
     ]
    }
   ]
  },
  {
   "cell_type": "markdown",
   "source": [
    "In the following, we want to explore how to handle highly imbalanced data. \"Unfortunately\", the dataset is currently not very imbalenced. For this reason we implement an auxiliary function that deletes X% of all samples of class 1. Applying this function several times will make our data more and more imbalanced"
   ],
   "metadata": {
    "id": "Swjjt7MO4_gO"
   }
  },
  {
   "cell_type": "code",
   "source": [
    "def delete_random_samples_of_class_1(samples_X, samples_y, percentage=90):\n",
    "  # find samples of class 1\n",
    "  y1_indices = np.argwhere(samples_y==1)\n",
    "  y1_indices = y1_indices.reshape((y1_indices.shape[0],))\n",
    "  sampled_indices = np.random.choice(y1_indices, int(percentage/100*len(y1_indices)), replace=False)\n",
    "  # delete randomly chosen samples of class 1\n",
    "  new_samples_X = np.delete(samples_X.values, sampled_indices, axis=0)\n",
    "  new_samples_y = np.delete(samples_y, sampled_indices)\n",
    "  return new_samples_X, new_samples_y"
   ],
   "metadata": {
    "id": "iOU7HR-mnJ6C"
   },
   "execution_count": 15,
   "outputs": []
  },
  {
   "cell_type": "markdown",
   "source": [
    "### 3a. Inspect target variable and apply function that increases the imbalance of the dataset\n",
    "1. Check how many samples of each class are present in the dataset\n",
    "2. Apply `delete_random_samples`\n",
    "3. Check again how many samples of each class are present in the dataset"
   ],
   "metadata": {
    "id": "XscOKKU85Nhv"
   }
  },
  {
   "cell_type": "code",
   "source": [
    "print(X_train.shape)\n",
    "print(y_train.shape)"
   ],
   "metadata": {
    "id": "B5Q04V4arsP8",
    "colab": {
     "base_uri": "https://localhost:8080/"
    },
    "executionInfo": {
     "status": "ok",
     "timestamp": 1666121734086,
     "user_tz": -120,
     "elapsed": 340,
     "user": {
      "displayName": "Mark Cieliebak",
      "userId": "07750634937328157731"
     }
    },
    "outputId": "63baabd9-0ff5-4586-e80c-361b8c28e588"
   },
   "execution_count": 16,
   "outputs": [
    {
     "name": "stdout",
     "output_type": "stream",
     "text": [
      "(24000, 33)\n",
      "(24000,)\n"
     ]
    }
   ]
  },
  {
   "cell_type": "code",
   "source": [
    "X_train_notBalanced,y_train_notBalanced = delete_random_samples_of_class_1(X_train,y_train)\n",
    "print(X_train_notBalanced.shape)\n",
    "print(y_train_notBalanced.shape)"
   ],
   "metadata": {
    "id": "f9VTR8O-sgdQ"
   },
   "execution_count": 17,
   "outputs": [
    {
     "name": "stdout",
     "output_type": "stream",
     "text": [
      "(19210, 33)\n",
      "(19210,)\n"
     ]
    }
   ]
  },
  {
   "cell_type": "markdown",
   "source": [
    "### 3b. Standardization the data\n",
    "Apply Standardization to the data. You could either use the functions you created for the previous labs or `StandardScaler` from the `sklearn` library."
   ],
   "metadata": {
    "id": "Pdm_IEBfUQQq"
   }
  },
  {
   "cell_type": "code",
   "source": [
    "from sklearn.preprocessing import StandardScaler\n",
    "\n",
    "scaler = StandardScaler().fit(X_train_notBalanced)\n",
    "X_train_standard = scaler.transform(X_train_notBalanced)\n",
    "X_test_standard = scaler.transform(X_test)"
   ],
   "metadata": {
    "id": "Wk6hgbTRccDe"
   },
   "execution_count": 18,
   "outputs": [
    {
     "name": "stderr",
     "output_type": "stream",
     "text": [
      "C:\\Users\\marcv\\AppData\\Local\\Programs\\Python\\Python39\\lib\\site-packages\\sklearn\\base.py:443: UserWarning: X has feature names, but StandardScaler was fitted without feature names\n",
      "  warnings.warn(\n"
     ]
    }
   ]
  },
  {
   "cell_type": "markdown",
   "source": [
    "### 3c. Logistic regression and Cross Validation\n",
    "Wer now apply Logistic regression and one of the Cross Validation techniques from the example above to the data in order to predict `default.payment.next.month`. Proceed as follows:\n",
    "1. Set `n_splits` to the number of splits that results in 20% of validation data in each split, set maximum iterations to `500` and random state to `RANDOM_SEED`.\n",
    "2. Create and train the model\n",
    "3. Apply the model in order to predict target variable of the test set. \n",
    "4. Calculate Accuracy, Precision (macro) and Recall (macro) for the predicted values.\n",
    "5. Generate and visualize the confusion matrix of the test set.\n"
   ],
   "metadata": {
    "id": "jjnexaD2UyDJ"
   }
  },
  {
   "cell_type": "code",
   "source": [
    "from sklearn.linear_model import LogisticRegressionCV\n",
    "\n",
    "def logistic_regression_CV(n_splits, cv_technique, class_weight):\n",
    "    cv = cv_technique(n_splits=n_splits)\n",
    "    clf = LogisticRegressionCV(cv=cv, random_state=RANDOM_SEED, max_iter=500, class_weight=class_weight).fit(X_train_standard, y_train_notBalanced)\n",
    "    y_pred = clf.predict(X_test_standard)\n",
    "    return y_pred"
   ],
   "metadata": {
    "id": "TKkHoJqdx_wb"
   },
   "execution_count": 19,
   "outputs": []
  },
  {
   "cell_type": "code",
   "execution_count": 20,
   "outputs": [],
   "source": [
    "from sklearn.metrics import accuracy_score, precision_score, recall_score, confusion_matrix\n",
    "\n",
    "def return_statistics(y_true, y_pred):\n",
    "    accuracy = accuracy_score(y_true,y_pred)\n",
    "    precision = precision_score(y_true,y_pred,average='macro')\n",
    "    recall = recall_score(y_true,y_pred,average='macro')\n",
    "\n",
    "    print(f\"Accuracy: {accuracy}\")\n",
    "    print(f\"Precision (macro): {precision}\")\n",
    "    print(f\"Recall (macro): {recall}\")\n",
    "\n",
    "    #visualise confusion matrix\n",
    "    print(f\"Confusion Matrix:\")\n",
    "    sns.heatmap(confusion_matrix(y_true, y_pred), annot=True, fmt=\"d\")\n"
   ],
   "metadata": {
    "collapsed": false
   }
  },
  {
   "cell_type": "code",
   "source": [
    "n_splits = int(X_train_standard.shape[0]*0.2)\n",
    "y_pred = logistic_regression_CV(n_splits, StratifiedKFold, 'None')\n",
    "return_statistics(y_test, y_pred)"
   ],
   "metadata": {
    "id": "ZWwImBQv-2gI"
   },
   "execution_count": 21,
   "outputs": [
    {
     "name": "stderr",
     "output_type": "stream",
     "text": [
      "C:\\Users\\marcv\\AppData\\Local\\Programs\\Python\\Python39\\lib\\site-packages\\sklearn\\model_selection\\_split.py:684: UserWarning: The least populated class in y has only 533 members, which is less than n_splits=3842.\n",
      "  warnings.warn(\n",
      "C:\\Users\\marcv\\AppData\\Local\\Programs\\Python\\Python39\\lib\\site-packages\\sklearn\\metrics\\_classification.py:1334: UndefinedMetricWarning: Precision is ill-defined and being set to 0.0 in labels with no predicted samples. Use `zero_division` parameter to control this behavior.\n",
      "  _warn_prf(average, modifier, msg_start, len(result))\n"
     ]
    },
    {
     "name": "stdout",
     "output_type": "stream",
     "text": [
      "Accuracy: 0.7811666666666667\n",
      "Precision (macro): 0.39058333333333334\n",
      "Recall (macro): 0.5\n",
      "Confusion Matrix:\n"
     ]
    },
    {
     "data": {
      "text/plain": "<Figure size 640x480 with 2 Axes>",
      "image/png": "[encoded data removed]"
     },
     "metadata": {},
     "output_type": "display_data"
    }
   ]
  },
  {
   "cell_type": "markdown",
   "source": [
    "### 3d. Handling imbalanced dataset\n",
    "1. Run the function `logistic_regression_CV` one more time. But this time add parameter `class_weight='balanced'` to the Logistic Regression Model. Adjust the function accordingly. \n",
    "2. Visualize the confusion matrix of the test set again.\n"
   ],
   "metadata": {
    "id": "iJYKJVr-lKtp"
   }
  },
  {
   "cell_type": "code",
   "source": [
    " # train logistic regression with class_weight='balanced', use cross-validation as in the 3c\n",
    "y_pred = logistic_regression_CV(n_splits, StratifiedKFold, 'balanced')\n",
    "return_statistics(y_test, y_pred)"
   ],
   "metadata": {
    "id": "rQhTBuaY_K4d"
   },
   "execution_count": 21,
   "outputs": [
    {
     "name": "stdout",
     "output_type": "stream",
     "text": [
      "Accuracy: 0.674\n",
      "Precision (macro): 0.6134318555975391\n",
      "Recall (macro): 0.6564661438982027\n",
      "Confusion Matrix:\n"
     ]
    },
    {
     "data": {
      "text/plain": "<Figure size 640x480 with 2 Axes>",
      "image/png": "[encoded data removed]"
     },
     "metadata": {},
     "output_type": "display_data"
    }
   ]
  },
  {
   "cell_type": "markdown",
   "source": [
    "## 📢 **HAND-IN** 📢: Please hand in the following:\n",
    "\n",
    "- The confusion matrices of 3c and 3d\n",
    "- How do you interpret the confusion matrix of 3c?\n",
    "- What is the major change that happend in 3d?\n",
    "\n",
    "\n"
   ],
   "metadata": {
    "id": "-JkHrkdl97W-"
   }
  },
  {
   "cell_type": "code",
   "execution_count": null,
   "outputs": [],
   "source": [
    "\"\"\"\n",
    "3c) The graphic in 3c shows us that there are zero false and true positives what looks very strange to me. The confusion matrix of 3c provides us only information regarding true and false negatives.\n",
    "3d) Major change in 3d is that we now after the data balancing also get values for true and false positives. Result in 3d seems legit because the total sum of all values is still the same as in 3c. Total sum is exactly 6000 in both matrices.\n",
    "\"\"\""
   ],
   "metadata": {
    "collapsed": false
   }
  }
 ]
}
